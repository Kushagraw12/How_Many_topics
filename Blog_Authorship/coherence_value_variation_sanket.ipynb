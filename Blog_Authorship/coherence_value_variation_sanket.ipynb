{
  "nbformat": 4,
  "nbformat_minor": 0,
  "metadata": {
    "kernelspec": {
      "display_name": "Python 3",
      "language": "python",
      "name": "python3"
    },
    "language_info": {
      "codemirror_mode": {
        "name": "ipython",
        "version": 3
      },
      "file_extension": ".py",
      "mimetype": "text/x-python",
      "name": "python",
      "nbconvert_exporter": "python",
      "pygments_lexer": "ipython3",
      "version": "3.7.4"
    },
    "colab": {
      "name": "topic modelling.ipynb",
      "provenance": [],
      "collapsed_sections": []
    }
  },
  "cells": [
    {
      "cell_type": "code",
      "metadata": {
        "id": "KFNyNDXebbWT",
        "outputId": "d109fdaf-f178-4a62-b631-04d5d405fd57",
        "colab": {
          "base_uri": "https://localhost:8080/",
          "height": 34
        }
      },
      "source": [
        "from google.colab import drive\n",
        "drive.mount('/content/drive')"
      ],
      "execution_count": null,
      "outputs": [
        {
          "output_type": "stream",
          "text": [
            "Drive already mounted at /content/drive; to attempt to forcibly remount, call drive.mount(\"/content/drive\", force_remount=True).\n"
          ],
          "name": "stdout"
        }
      ]
    },
    {
      "cell_type": "code",
      "metadata": {
        "id": "D-PSIOa03duq"
      },
      "source": [
        "import pickle\n",
        "import pandas as pd"
      ],
      "execution_count": null,
      "outputs": []
    },
    {
      "cell_type": "code",
      "metadata": {
        "id": "qViKcE4m3duv"
      },
      "source": [
        "file = open('drive/My Drive/gssoc/preprocessed/id2word.txt','rb')\n",
        "id2word = pickle.load(file)\n",
        "file.close()"
      ],
      "execution_count": null,
      "outputs": []
    },
    {
      "cell_type": "code",
      "metadata": {
        "id": "B25ODzuL3duz",
        "outputId": "5e307b41-935c-45eb-916a-bf57edcd0f8d",
        "colab": {
          "base_uri": "https://localhost:8080/",
          "height": 34
        }
      },
      "source": [
        "print(id2word)"
      ],
      "execution_count": null,
      "outputs": [
        {
          "output_type": "stream",
          "text": [
            "Dictionary(55850 unique tokens: ['file', 'html', 'info', 'leader', 'learn']...)\n"
          ],
          "name": "stdout"
        }
      ]
    },
    {
      "cell_type": "code",
      "metadata": {
        "id": "R7VlzsKa3du5"
      },
      "source": [
        "file = open('drive/My Drive/gssoc/preprocessed/data_lemmatized.txt','rb')\n",
        "data_lemmatized = pickle.load(file)\n",
        "file.close()"
      ],
      "execution_count": null,
      "outputs": []
    },
    {
      "cell_type": "code",
      "metadata": {
        "id": "xqDoc8qn3du8",
        "outputId": "ccf2cff2-95f2-4c8e-de1b-b4772dd1d126",
        "colab": {
          "base_uri": "https://localhost:8080/",
          "height": 34
        }
      },
      "source": [
        "print(data_lemmatized[:2])"
      ],
      "execution_count": null,
      "outputs": [
        {
          "output_type": "stream",
          "text": [
            "[['info', 'page', 'file', 'wait', 'team', 'leader', 'process', 'learn', 'html'], ['team', 'member', 'draw', 'mail', 'mail']]\n"
          ],
          "name": "stdout"
        }
      ]
    },
    {
      "cell_type": "code",
      "metadata": {
        "id": "dtUKaiyY3dvA"
      },
      "source": [
        "file = open('drive/My Drive/gssoc/preprocessed/corpus.txt','rb')\n",
        "corpus = pickle.load(file)\n",
        "file.close()"
      ],
      "execution_count": null,
      "outputs": []
    },
    {
      "cell_type": "code",
      "metadata": {
        "id": "4VnwUjfd3dvD",
        "outputId": "fd4d599d-09e5-4623-a9a4-c55340a8d4bb",
        "colab": {
          "base_uri": "https://localhost:8080/",
          "height": 34
        }
      },
      "source": [
        "print(corpus[:1])"
      ],
      "execution_count": null,
      "outputs": [
        {
          "output_type": "stream",
          "text": [
            "[[(0, 1), (1, 1), (2, 1), (3, 1), (4, 1), (5, 1), (6, 1), (7, 1), (8, 1)]]\n"
          ],
          "name": "stdout"
        }
      ]
    },
    {
      "cell_type": "code",
      "metadata": {
        "id": "S_fOfP7Zp9zB",
        "outputId": "a48bb21f-4bb5-40f5-ae2a-8499c0333dc5",
        "colab": {
          "base_uri": "https://localhost:8080/",
          "height": 119
        }
      },
      "source": [
        "pip uninstall gensim"
      ],
      "execution_count": null,
      "outputs": [
        {
          "output_type": "stream",
          "text": [
            "Uninstalling gensim-3.6.0:\n",
            "  Would remove:\n",
            "    /usr/local/lib/python3.6/dist-packages/gensim-3.6.0.dist-info/*\n",
            "    /usr/local/lib/python3.6/dist-packages/gensim/*\n",
            "Proceed (y/n)? y\n",
            "  Successfully uninstalled gensim-3.6.0\n"
          ],
          "name": "stdout"
        }
      ]
    },
    {
      "cell_type": "code",
      "metadata": {
        "id": "aYS3AH5DqZTz",
        "outputId": "19445ea2-4779-4fec-d10a-e79ac92e990d",
        "colab": {
          "base_uri": "https://localhost:8080/",
          "height": 340
        }
      },
      "source": [
        "pip install gensim"
      ],
      "execution_count": null,
      "outputs": [
        {
          "output_type": "stream",
          "text": [
            "Collecting gensim\n",
            "\u001b[?25l  Downloading https://files.pythonhosted.org/packages/2b/e0/fa6326251692056dc880a64eb22117e03269906ba55a6864864d24ec8b4e/gensim-3.8.3-cp36-cp36m-manylinux1_x86_64.whl (24.2MB)\n",
            "\u001b[K     |████████████████████████████████| 24.2MB 1.3MB/s \n",
            "\u001b[?25hRequirement already satisfied: scipy>=0.18.1 in /usr/local/lib/python3.6/dist-packages (from gensim) (1.4.1)\n",
            "Requirement already satisfied: smart-open>=1.8.1 in /usr/local/lib/python3.6/dist-packages (from gensim) (2.2.0)\n",
            "Requirement already satisfied: six>=1.5.0 in /usr/local/lib/python3.6/dist-packages (from gensim) (1.15.0)\n",
            "Requirement already satisfied: numpy>=1.11.3 in /usr/local/lib/python3.6/dist-packages (from gensim) (1.18.5)\n",
            "Requirement already satisfied: requests in /usr/local/lib/python3.6/dist-packages (from smart-open>=1.8.1->gensim) (2.23.0)\n",
            "Requirement already satisfied: certifi>=2017.4.17 in /usr/local/lib/python3.6/dist-packages (from requests->smart-open>=1.8.1->gensim) (2020.6.20)\n",
            "Requirement already satisfied: idna<3,>=2.5 in /usr/local/lib/python3.6/dist-packages (from requests->smart-open>=1.8.1->gensim) (2.10)\n",
            "Requirement already satisfied: chardet<4,>=3.0.2 in /usr/local/lib/python3.6/dist-packages (from requests->smart-open>=1.8.1->gensim) (3.0.4)\n",
            "Requirement already satisfied: urllib3!=1.25.0,!=1.25.1,<1.26,>=1.21.1 in /usr/local/lib/python3.6/dist-packages (from requests->smart-open>=1.8.1->gensim) (1.24.3)\n",
            "Installing collected packages: gensim\n",
            "Successfully installed gensim-3.8.3\n"
          ],
          "name": "stdout"
        },
        {
          "output_type": "display_data",
          "data": {
            "application/vnd.colab-display-data+json": {
              "pip_warning": {
                "packages": [
                  "gensim"
                ]
              }
            }
          },
          "metadata": {
            "tags": []
          }
        }
      ]
    },
    {
      "cell_type": "code",
      "metadata": {
        "id": "ERXcA0ue3dvH"
      },
      "source": [
        "import gensim\n",
        "import gensim.corpora as corpora\n",
        "from gensim.utils import simple_preprocess\n",
        "from gensim.models import CoherenceModel"
      ],
      "execution_count": null,
      "outputs": []
    },
    {
      "cell_type": "code",
      "metadata": {
        "id": "3nM9aXaL3dvK"
      },
      "source": [
        "lda_model = gensim.models.LdaModel(corpus=corpus,\n",
        "                                  id2word=id2word,\n",
        "                                  num_topics=20,\n",
        "                                  random_state=0,\n",
        "                                  update_every=1,\n",
        "                                  chunksize=100,\n",
        "                                  passes=1,\n",
        "                                  alpha='auto',\n",
        "                                  per_word_topics='True')"
      ],
      "execution_count": null,
      "outputs": []
    },
    {
      "cell_type": "code",
      "metadata": {
        "id": "AF3exUyb3dvN"
      },
      "source": [
        "file = open('drive/My Drive/gssoc/pickle/lda_model_pkl','rb')\n",
        "lda_model_pkl = pickle.load(file)\n",
        "file.close()"
      ],
      "execution_count": null,
      "outputs": []
    },
    {
      "cell_type": "code",
      "metadata": {
        "id": "LQFa-Rjo3dvR",
        "outputId": "829efef3-aa23-4346-8f30-1ed6747e75a0",
        "colab": {
          "base_uri": "https://localhost:8080/",
          "height": 54
        }
      },
      "source": [
        "print(lda_model_pkl.print_topics())"
      ],
      "execution_count": null,
      "outputs": [
        {
          "output_type": "stream",
          "text": [
            "[(0, '0.190*\"ask\" + 0.148*\"woman\" + 0.127*\"question\" + 0.115*\"moment\" + 0.098*\"answer\" + 0.076*\"young\" + 0.051*\"mother\" + 0.037*\"wife\" + 0.035*\"husband\" + 0.016*\"repeat\"'), (1, '0.066*\"away\" + 0.045*\"walk\" + 0.039*\"hand\" + 0.039*\"heart\" + 0.038*\"fall\" + 0.037*\"face\" + 0.036*\"stand\" + 0.035*\"hold\" + 0.033*\"open\" + 0.031*\"close\"'), (2, '0.110*\"water\" + 0.106*\"run\" + 0.105*\"link\" + 0.068*\"add\" + 0.054*\"trust\" + 0.044*\"chat\" + 0.044*\"video\" + 0.041*\"photo\" + 0.031*\"cream\" + 0.028*\"danger\"'), (3, '0.082*\"tri\" + 0.079*\"suggest\" + 0.066*\"blood\" + 0.046*\"smell\" + 0.044*\"ride\" + 0.041*\"wind\" + 0.038*\"hit\" + 0.037*\"round\" + 0.036*\"intern\" + 0.035*\"bless\"'), (4, '0.155*\"hate\" + 0.120*\"child\" + 0.052*\"form\" + 0.052*\"exist\" + 0.052*\"student\" + 0.046*\"public\" + 0.043*\"nation\" + 0.043*\"program\" + 0.042*\"state\" + 0.038*\"folk\"'), (5, '0.134*\"food\" + 0.112*\"eat\" + 0.100*\"pay\" + 0.077*\"vote\" + 0.076*\"put\" + 0.054*\"dear\" + 0.046*\"cost\" + 0.043*\"coffe\" + 0.041*\"fish\" + 0.036*\"meal\"'), (6, '0.494*\"school\" + 0.235*\"drive\" + 0.093*\"white\" + 0.039*\"hole\" + 0.026*\"chicken\" + 0.024*\"kitchen\" + 0.020*\"chines\" + 0.014*\"salad\" + 0.012*\"high\" + 0.008*\"sidewalk\"'), (7, '0.164*\"night\" + 0.155*\"home\" + 0.099*\"hour\" + 0.091*\"sleep\" + 0.078*\"tomorrow\" + 0.070*\"stay\" + 0.065*\"tonight\" + 0.061*\"wake\" + 0.061*\"drink\" + 0.027*\"even\"'), (8, '0.163*\"music\" + 0.132*\"wear\" + 0.098*\"black\" + 0.073*\"birthday\" + 0.069*\"rain\" + 0.050*\"record\" + 0.044*\"shirt\" + 0.043*\"shoe\" + 0.041*\"ahead\" + 0.030*\"season\"'), (9, '0.076*\"strong\" + 0.067*\"support\" + 0.060*\"burn\" + 0.046*\"push\" + 0.043*\"clear\" + 0.043*\"leader\" + 0.041*\"project\" + 0.038*\"race\" + 0.037*\"stage\" + 0.034*\"american\"'), (10, '0.113*\"teach\" + 0.112*\"death\" + 0.100*\"name\" + 0.094*\"teacher\" + 0.079*\"rule\" + 0.072*\"claim\" + 0.063*\"tast\" + 0.061*\"fill\" + 0.047*\"address\" + 0.045*\"medium\"'), (11, '0.187*\"write\" + 0.172*\"read\" + 0.123*\"blog\" + 0.079*\"post\" + 0.069*\"book\" + 0.054*\"site\" + 0.044*\"list\" + 0.037*\"page\" + 0.034*\"email\" + 0.017*\"space\"'), (12, '0.145*\"stuff\" + 0.070*\"comment\" + 0.066*\"test\" + 0.065*\"current\" + 0.049*\"team\" + 0.037*\"huge\" + 0.036*\"fail\" + 0.035*\"bear\" + 0.031*\"perform\" + 0.031*\"urllink\"'), (13, '0.066*\"creat\" + 0.065*\"allow\" + 0.050*\"level\" + 0.049*\"develop\" + 0.048*\"human\" + 0.044*\"high\" + 0.038*\"effect\" + 0.032*\"provid\" + 0.028*\"view\" + 0.027*\"similar\"'), (14, '0.034*\"think\" + 0.034*\"know\" + 0.032*\"go\" + 0.027*\"time\" + 0.023*\"want\" + 0.022*\"feel\" + 0.021*\"good\" + 0.021*\"thing\" + 0.018*\"come\" + 0.016*\"work\"'), (15, '0.097*\"probabl\" + 0.067*\"posit\" + 0.063*\"self\" + 0.063*\"result\" + 0.062*\"power\" + 0.054*\"truth\" + 0.053*\"websit\" + 0.040*\"news\" + 0.040*\"direct\" + 0.039*\"opinion\"'), (16, '0.409*\"love\" + 0.122*\"girl\" + 0.080*\"listen\" + 0.055*\"song\" + 0.047*\"phone\" + 0.046*\"smile\" + 0.031*\"cold\" + 0.029*\"stick\" + 0.022*\"bodi\" + 0.021*\"warm\"'), (17, '0.072*\"govern\" + 0.046*\"report\" + 0.044*\"process\" + 0.042*\"suffer\" + 0.041*\"mail\" + 0.041*\"refer\" + 0.040*\"concern\" + 0.036*\"action\" + 0.035*\"lack\" + 0.032*\"base\"'), (18, '0.041*\"room\" + 0.036*\"small\" + 0.030*\"buy\" + 0.028*\"build\" + 0.025*\"visit\" + 0.024*\"train\" + 0.022*\"event\" + 0.020*\"offer\" + 0.020*\"sell\" + 0.020*\"pull\"'), (19, '0.139*\"class\" + 0.096*\"sit\" + 0.088*\"move\" + 0.072*\"share\" + 0.070*\"total\" + 0.065*\"brother\" + 0.051*\"clean\" + 0.043*\"weight\" + 0.033*\"lesson\" + 0.029*\"player\"')]\n"
          ],
          "name": "stdout"
        }
      ]
    },
    {
      "cell_type": "code",
      "metadata": {
        "id": "8wobZEXRiKeN",
        "outputId": "db25335b-b843-47db-f72d-bc46e4e78500",
        "colab": {
          "base_uri": "https://localhost:8080/",
          "height": 51
        }
      },
      "source": [
        "print('\\nPerplexity: ', lda_model_pkl.log_perplexity(corpus)) "
      ],
      "execution_count": null,
      "outputs": [
        {
          "output_type": "stream",
          "text": [
            "\n",
            "Perplexity:  -11.496303696483185\n"
          ],
          "name": "stdout"
        }
      ]
    },
    {
      "cell_type": "code",
      "metadata": {
        "id": "rcSsbwDNl7kv"
      },
      "source": [
        "coherence_model_lda = CoherenceModel(model=lda_model_pkl, texts=data_lemmatized, dictionary=id2word, coherence='c_v')\n",
        "coherence_lda = coherence_model_lda.get_coherence()"
      ],
      "execution_count": null,
      "outputs": []
    },
    {
      "cell_type": "code",
      "metadata": {
        "id": "ElvjPV2ImGW8",
        "outputId": "8dc397b7-ebac-4a85-d1d5-4ee367c43011",
        "colab": {
          "base_uri": "https://localhost:8080/",
          "height": 34
        }
      },
      "source": [
        "print(coherence_lda)"
      ],
      "execution_count": null,
      "outputs": [
        {
          "output_type": "stream",
          "text": [
            "0.35765087513967575\n"
          ],
          "name": "stdout"
        }
      ]
    },
    {
      "cell_type": "code",
      "metadata": {
        "id": "zcVT-bH6o7Xh",
        "outputId": "6c15eb48-7f9d-455c-87a5-c991b80fcfe2",
        "colab": {
          "base_uri": "https://localhost:8080/",
          "height": 374
        }
      },
      "source": [
        "pip install pyLDavis"
      ],
      "execution_count": null,
      "outputs": [
        {
          "output_type": "stream",
          "text": [
            "Requirement already satisfied: pyLDavis in /usr/local/lib/python3.6/dist-packages (2.1.2)\n",
            "Requirement already satisfied: pandas>=0.17.0 in /usr/local/lib/python3.6/dist-packages (from pyLDavis) (1.1.2)\n",
            "Requirement already satisfied: wheel>=0.23.0 in /usr/local/lib/python3.6/dist-packages (from pyLDavis) (0.35.1)\n",
            "Requirement already satisfied: pytest in /usr/local/lib/python3.6/dist-packages (from pyLDavis) (3.6.4)\n",
            "Requirement already satisfied: joblib>=0.8.4 in /usr/local/lib/python3.6/dist-packages (from pyLDavis) (0.16.0)\n",
            "Requirement already satisfied: jinja2>=2.7.2 in /usr/local/lib/python3.6/dist-packages (from pyLDavis) (2.11.2)\n",
            "Requirement already satisfied: funcy in /usr/local/lib/python3.6/dist-packages (from pyLDavis) (1.15)\n",
            "Requirement already satisfied: future in /usr/local/lib/python3.6/dist-packages (from pyLDavis) (0.16.0)\n",
            "Requirement already satisfied: numpy>=1.9.2 in /usr/local/lib/python3.6/dist-packages (from pyLDavis) (1.18.5)\n",
            "Requirement already satisfied: numexpr in /usr/local/lib/python3.6/dist-packages (from pyLDavis) (2.7.1)\n",
            "Requirement already satisfied: scipy>=0.18.0 in /usr/local/lib/python3.6/dist-packages (from pyLDavis) (1.4.1)\n",
            "Requirement already satisfied: pytz>=2017.2 in /usr/local/lib/python3.6/dist-packages (from pandas>=0.17.0->pyLDavis) (2018.9)\n",
            "Requirement already satisfied: python-dateutil>=2.7.3 in /usr/local/lib/python3.6/dist-packages (from pandas>=0.17.0->pyLDavis) (2.8.1)\n",
            "Requirement already satisfied: py>=1.5.0 in /usr/local/lib/python3.6/dist-packages (from pytest->pyLDavis) (1.9.0)\n",
            "Requirement already satisfied: setuptools in /usr/local/lib/python3.6/dist-packages (from pytest->pyLDavis) (50.3.0)\n",
            "Requirement already satisfied: more-itertools>=4.0.0 in /usr/local/lib/python3.6/dist-packages (from pytest->pyLDavis) (8.5.0)\n",
            "Requirement already satisfied: attrs>=17.4.0 in /usr/local/lib/python3.6/dist-packages (from pytest->pyLDavis) (20.2.0)\n",
            "Requirement already satisfied: atomicwrites>=1.0 in /usr/local/lib/python3.6/dist-packages (from pytest->pyLDavis) (1.4.0)\n",
            "Requirement already satisfied: pluggy<0.8,>=0.5 in /usr/local/lib/python3.6/dist-packages (from pytest->pyLDavis) (0.7.1)\n",
            "Requirement already satisfied: six>=1.10.0 in /usr/local/lib/python3.6/dist-packages (from pytest->pyLDavis) (1.15.0)\n",
            "Requirement already satisfied: MarkupSafe>=0.23 in /usr/local/lib/python3.6/dist-packages (from jinja2>=2.7.2->pyLDavis) (1.1.1)\n"
          ],
          "name": "stdout"
        }
      ]
    },
    {
      "cell_type": "code",
      "metadata": {
        "id": "Ym565t2Qo41n"
      },
      "source": [
        "import pyLDAvis\n",
        "import pyLDAvis.gensim  \n",
        "import matplotlib.pyplot as plt\n",
        "%matplotlib inline"
      ],
      "execution_count": null,
      "outputs": []
    },
    {
      "cell_type": "code",
      "metadata": {
        "id": "N7MHLcmoo9pA",
        "outputId": "30e4416b-683f-4cde-8f25-c627dd2a787b",
        "colab": {
          "base_uri": "https://localhost:8080/",
          "height": 861
        }
      },
      "source": [
        "pyLDAvis.enable_notebook()\n",
        "vis = pyLDAvis.gensim.prepare(lda_model_pkl, corpus, id2word)\n",
        "vis"
      ],
      "execution_count": null,
      "outputs": [
        {
          "output_type": "execute_result",
          "data": {
            "text/html": [
              "\n",
              "<link rel=\"stylesheet\" type=\"text/css\" href=\"https://cdn.rawgit.com/bmabey/pyLDAvis/files/ldavis.v1.0.0.css\">\n",
              "\n",
              "\n",
              "<div id=\"ldavis_el48951402830695618568392037879\"></div>\n",
              "<script type=\"text/javascript\">\n",
              "\n",
              "var ldavis_el48951402830695618568392037879_data = {\"mdsDat\": {\"x\": [0.33160458658759834, 0.2815013069463511, 0.10502127826122072, 0.06928868202606807, 0.01806603837948627, -0.011750394970421392, -0.04169261038969138, 0.029277046379686218, -0.05847712923302063, -0.054396190189335204, -0.05965104642081121, -0.059847338524445834, -0.033857585216053546, -0.06574499036588247, -0.04675232399557679, -0.08034455871680841, -0.08320942517581603, -0.08378109028874729, -0.08518753084583462, -0.07006672424796563], \"y\": [-0.04838330990510428, 0.022207682352074737, 0.1394052648182755, 0.043698900108913453, 0.013247805502287695, 0.14553686374145083, 0.07246801454730285, -0.33857281693183194, 0.04165519534829501, 0.039885664280987436, 0.03966423519589383, 0.029706509323130834, 0.01734594209534824, 0.0224673330235251, 0.023177423579676015, 0.0053486518787965905, 0.0009276603432395873, 7.517065346933997e-05, -0.002056225512124501, -0.2678059644436067], \"topics\": [1, 2, 3, 4, 5, 6, 7, 8, 9, 10, 11, 12, 13, 14, 15, 16, 17, 18, 19, 20], \"cluster\": [1, 1, 1, 1, 1, 1, 1, 1, 1, 1, 1, 1, 1, 1, 1, 1, 1, 1, 1, 1], \"Freq\": [61.94894590786817, 5.498194501673918, 4.414738555600313, 3.214518133683427, 2.7919300328596526, 2.4163168150291767, 2.3739121963794823, 1.9126781639880786, 1.694159570706761, 1.6376294507567284, 1.570736358388813, 1.4875314830774844, 1.456102242661268, 1.3819880618645632, 1.3688200346656911, 1.0914212834335861, 1.0516223429899683, 1.0008014295325822, 0.9354267371202054, 0.7525266977201414]}, \"tinfo\": {\"Term\": [\"love\", \"write\", \"school\", \"night\", \"read\", \"home\", \"stuff\", \"ask\", \"blog\", \"girl\", \"hour\", \"away\", \"hate\", \"think\", \"sleep\", \"know\", \"music\", \"woman\", \"class\", \"go\", \"drive\", \"tomorrow\", \"question\", \"stay\", \"child\", \"time\", \"post\", \"wear\", \"turn\", \"moment\", \"think\", \"know\", \"time\", \"want\", \"good\", \"thing\", \"come\", \"work\", \"say\", \"today\", \"peopl\", \"tell\", \"friend\", \"start\", \"take\", \"need\", \"talk\", \"year\", \"week\", \"right\", \"mean\", \"person\", \"play\", \"long\", \"get\", \"happen\", \"make\", \"actual\", \"great\", \"give\", \"go\", \"feel\", \"look\", \"life\", \"live\", \"walk\", \"hand\", \"heart\", \"fall\", \"face\", \"stand\", \"hold\", \"hurt\", \"dream\", \"pain\", \"eye\", \"step\", \"fear\", \"foot\", \"light\", \"insid\", \"door\", \"apart\", \"breath\", \"dark\", \"touch\", \"tear\", \"remain\", \"afraid\", \"rise\", \"hide\", \"grind\", \"comfort\", \"arm\", \"tree\", \"open\", \"lie\", \"away\", \"close\", \"begin\", \"turn\", \"dead\", \"room\", \"small\", \"buy\", \"build\", \"visit\", \"train\", \"event\", \"offer\", \"sell\", \"store\", \"trip\", \"larg\", \"color\", \"window\", \"area\", \"join\", \"attend\", \"cloth\", \"size\", \"town\", \"road\", \"local\", \"slow\", \"driver\", \"style\", \"passion\", \"price\", \"cheap\", \"speed\", \"design\", \"collect\", \"pull\", \"reach\", \"cover\", \"night\", \"home\", \"hour\", \"sleep\", \"tomorrow\", \"tonight\", \"wake\", \"drink\", \"even\", \"pack\", \"boy\", \"pool\", \"swim\", \"morn\", \"network\", \"pregnant\", \"wave\", \"asleep\", \"midnight\", \"phase\", \"humid\", \"input\", \"flush\", \"skate\", \"soooooo\", \"farmer\", \"bucket\", \"caller\", \"stay\", \"half\", \"hous\", \"watch\", \"write\", \"read\", \"blog\", \"post\", \"book\", \"site\", \"list\", \"page\", \"email\", \"space\", \"ball\", \"publish\", \"sport\", \"holi\", \"murder\", \"field\", \"file\", \"pop\", \"recommend\", \"complex\", \"domain\", \"activ\", \"html\", \"format\", \"expert\", \"code\", \"guarante\", \"select\", \"hectic\", \"retain\", \"send\", \"love\", \"girl\", \"listen\", \"song\", \"phone\", \"smile\", \"cold\", \"stick\", \"bodi\", \"warm\", \"load\", \"weather\", \"grab\", \"leg\", \"crush\", \"lift\", \"hero\", \"disturb\", \"shadow\", \"mode\", \"bleed\", \"dose\", \"http\", \"deep\", \"reach\", \"wanna\", \"will\", \"kiss\", \"stupid\", \"would\", \"soul\", \"shoulder\", \"fight\", \"stuff\", \"comment\", \"test\", \"current\", \"team\", \"huge\", \"fail\", \"bear\", \"perform\", \"urllink\", \"member\", \"blogger\", \"account\", \"ticket\", \"spot\", \"somewhat\", \"quick\", \"market\", \"topic\", \"limit\", \"correct\", \"score\", \"exam\", \"moral\", \"concert\", \"staff\", \"theme\", \"speech\", \"threaten\", \"cancel\", \"creat\", \"allow\", \"level\", \"develop\", \"human\", \"effect\", \"provid\", \"view\", \"similar\", \"term\", \"effort\", \"low\", \"seek\", \"reflect\", \"success\", \"critic\", \"wise\", \"click\", \"increa\", \"benefit\", \"large\", \"gather\", \"strike\", \"threat\", \"career\", \"pride\", \"haunt\", \"owner\", \"quarter\", \"dog\", \"major\", \"origin\", \"high\", \"accept\", \"class\", \"sit\", \"move\", \"share\", \"total\", \"brother\", \"clean\", \"weight\", \"lesson\", \"player\", \"card\", \"fault\", \"roll\", \"park\", \"consist\", \"british\", \"pour\", \"cook\", \"twin\", \"unknown\", \"cross\", \"info\", \"beach\", \"titl\", \"inch\", \"layer\", \"pile\", \"cours\", \"offic\", \"dive\", \"hate\", \"child\", \"form\", \"exist\", \"student\", \"public\", \"nation\", \"program\", \"state\", \"folk\", \"complain\", \"screen\", \"destroy\", \"protect\", \"match\", \"dumb\", \"colour\", \"terror\", \"pure\", \"modern\", \"improv\", \"model\", \"useless\", \"tape\", \"childhood\", \"famili\", \"growth\", \"choke\", \"revel\", \"strengthen\", \"ask\", \"woman\", \"question\", \"moment\", \"answer\", \"young\", \"mother\", \"wife\", \"husband\", \"repeat\", \"degre\", \"commit\", \"male\", \"fellow\", \"drown\", \"ideal\", \"weigh\", \"myth\", \"convict\", \"eld\", \"happy\", \"doctor\", \"ponytail\", \"affect\", \"abort\", \"gossip\", \"breakdown\", \"discuss\", \"repli\", \"mom\", \"would\", \"fight\", \"warn\", \"appear\", \"stupid\", \"forward\", \"shall\", \"worth\", \"hell\", \"inform\", \"probabl\", \"posit\", \"self\", \"result\", \"power\", \"truth\", \"websit\", \"news\", \"direct\", \"opinion\", \"brain\", \"enter\", \"cousin\", \"product\", \"depend\", \"honest\", \"sexual\", \"earth\", \"standard\", \"welcom\", \"quiz\", \"reaction\", \"employ\", \"prevent\", \"cell\", \"fire\", \"frighten\", \"cancer\", \"obtain\", \"tempt\", \"govern\", \"report\", \"process\", \"suffer\", \"mail\", \"refer\", \"concern\", \"action\", \"lack\", \"base\", \"equal\", \"text\", \"risk\", \"afford\", \"soft\", \"path\", \"terrorist\", \"rich\", \"minor\", \"resist\", \"rat\", \"defend\", \"calm\", \"storm\", \"rate\", \"credit\", \"milk\", \"gold\", \"rough\", \"journey\", \"case\", \"music\", \"wear\", \"black\", \"birthday\", \"rain\", \"record\", \"shirt\", \"shoe\", \"ahead\", \"season\", \"star\", \"avail\", \"pair\", \"predict\", \"option\", \"cash\", \"dust\", \"convent\", \"ignor\", \"snack\", \"shave\", \"profit\", \"trend\", \"lawn\", \"backward\", \"delay\", \"strict\", \"trail\", \"consol\", \"bride\", \"fashion\", \"strong\", \"support\", \"burn\", \"push\", \"clear\", \"leader\", \"project\", \"race\", \"stage\", \"american\", \"weak\", \"soldier\", \"physic\", \"mental\", \"stomach\", \"heal\", \"scale\", \"argument\", \"victim\", \"bird\", \"talent\", \"troop\", \"last\", \"contract\", \"construct\", \"stretch\", \"grasp\", \"region\", \"back\", \"sever\", \"tri\", \"suggest\", \"blood\", \"smell\", \"ride\", \"wind\", \"hit\", \"round\", \"intern\", \"bless\", \"bright\", \"regret\", \"anger\", \"someday\", \"loss\", \"bare\", \"host\", \"fake\", \"bathroom\", \"yellow\", \"error\", \"succeed\", \"adjust\", \"trick\", \"crawl\", \"counter\", \"dirt\", \"noon\", \"father\", \"duck\", \"water\", \"run\", \"link\", \"add\", \"trust\", \"chat\", \"video\", \"photo\", \"cream\", \"danger\", \"heat\", \"section\", \"swing\", \"disea\", \"plea\", \"abandon\", \"meat\", \"loser\", \"edit\", \"pocket\", \"german\", \"politician\", \"fuel\", \"extent\", \"flame\", \"neighborhood\", \"menu\", \"geek\", \"rout\", \"tattoo\", \"food\", \"eat\", \"pay\", \"vote\", \"put\", \"dear\", \"cost\", \"coffe\", \"fish\", \"meal\", \"popular\", \"contain\", \"legal\", \"suspect\", \"truck\", \"habit\", \"arrest\", \"alcohol\", \"jail\", \"poison\", \"servic\", \"trash\", \"tax\", \"plate\", \"prosper\", \"stave\", \"charg\", \"workout\", \"voter\", \"campaign\", \"dinner\", \"fight\", \"stupid\", \"teach\", \"death\", \"name\", \"teacher\", \"rule\", \"claim\", \"tast\", \"fill\", \"address\", \"medium\", \"spell\", \"proceed\", \"prison\", \"ghost\", \"tune\", \"dismiss\", \"cage\", \"steel\", \"tourist\", \"wit\", \"sock\", \"promis\", \"cigar\", \"flavour\", \"strength\", \"resurrect\", \"iraqi\", \"mild\", \"depart\", \"global\", \"evil\", \"author\", \"shall\", \"attack\", \"appear\", \"fight\", \"inform\", \"hell\", \"stupid\", \"school\", \"drive\", \"white\", \"hole\", \"chicken\", \"kitchen\", \"chines\", \"salad\", \"sidewalk\", \"taxi\", \"brick\", \"patron\", \"homework\", \"licen\", \"soccer\", \"bake\", \"trailer\", \"rear\", \"frown\", \"choir\", \"snow\", \"caucasian\", \"mortar\", \"driveway\", \"salesman\", \"traction\", \"motorist\", \"trainer\", \"veggi\", \"lame\", \"high\", \"mile\", \"few\", \"stupid\", \"green\", \"dinner\", \"afternoon\", \"skip\", \"senior\", \"suppos\", \"will\", \"scream\", \"camp\", \"fight\", \"depress\", \"wanna\", \"hell\", \"alot\", \"would\", \"kick\", \"piss\", \"forward\", \"serious\", \"shall\", \"worth\", \"appear\"], \"Freq\": [254700.0, 134517.0, 95731.0, 135413.0, 123889.0, 128528.0, 88436.0, 76995.0, 88480.0, 75768.0, 81824.0, 96029.0, 65294.0, 546917.0, 75377.0, 540168.0, 58137.0, 59882.0, 60654.0, 518197.0, 45527.0, 64389.0, 51477.0, 61320.0, 50532.0, 433723.0, 56800.0, 46837.0, 85996.0, 46701.0, 546916.3959188415, 540166.8286238046, 433722.15617312, 371192.0227416381, 342512.5881661569, 328014.4015878899, 294361.1354957615, 261919.45213011495, 260705.7592536655, 250230.46956719863, 207424.17536690825, 199328.5998763252, 189799.1329021077, 177301.5468156818, 169027.48533030195, 161718.8917561658, 158023.91514137678, 147619.99904853318, 140187.57533580394, 138560.36736675515, 134581.20407604455, 132862.23430382615, 126305.40394597306, 120727.22993666134, 117827.31176301929, 117588.93911773284, 112361.50323948362, 110156.99093175685, 108558.70093339116, 105502.66881267243, 517698.1895319081, 350666.8020495023, 243704.02834092153, 141598.7752771809, 125952.20644998351, 64223.87251102544, 55127.13871066124, 55108.35760549238, 53754.78330872554, 52198.2781154909, 51513.981162835604, 50063.54173348297, 39979.095895750936, 39231.908618736656, 35499.604478302565, 35025.342005853796, 29092.208875109667, 25443.161479400955, 24915.46781786505, 24000.324177168633, 23317.649468850257, 22047.209259310155, 21883.443034049465, 20389.042102064213, 18896.742174329942, 18389.9464489879, 18284.093027657313, 17533.86569113361, 16417.034874627694, 16072.522933379922, 15562.979943847798, 15320.756443082899, 15021.13846523701, 13473.381521341207, 11207.835533170864, 47015.183718880086, 27590.706997181354, 93760.6159013854, 43241.95945422063, 36025.19317889398, 38067.55131875041, 18046.14143697963, 47030.123002978034, 41282.454440392954, 34574.34046488513, 31769.381439140576, 28039.156987393304, 27451.945607886915, 24698.936896361156, 22966.51210158757, 22798.982504633954, 20809.532005302575, 19436.52552722774, 18702.16395077643, 18491.001427240073, 17650.501554911018, 16672.179159471823, 16369.8134199955, 16137.220968243808, 16052.77311463264, 15783.15483859785, 15527.738814356688, 15460.277324086794, 14748.84310214537, 14603.329060522285, 13749.019825476882, 13234.35419624048, 13011.290628363151, 12791.098010050548, 10557.367932668583, 10493.547285114853, 10073.469436484176, 13834.715181333437, 22551.172219888864, 19735.792632094548, 12966.448323542525, 135412.5847693433, 128527.30135792025, 81823.09861071614, 75376.28970006536, 64388.49993924614, 53421.52352909666, 50464.16785692484, 50117.44729149989, 22511.61891695507, 14546.604384873363, 12109.999640926833, 9575.747495451582, 8559.32699115107, 8346.044123317992, 5478.169588957202, 5380.793226727545, 5282.138391787068, 4071.8897039079866, 3889.842669492417, 3406.567261763011, 2502.003480992808, 1614.7715645899686, 1440.4082822522869, 1380.1082069563784, 1287.3771036098058, 1108.069281797431, 1080.5390336760204, 601.690135295833, 58338.60668423954, 5436.479657966149, 2671.2979814459472, 2293.9528668263542, 134516.33738543064, 123888.0278524923, 88478.80485037585, 56798.924178949055, 49607.32527912029, 38596.73217201158, 31586.52656291612, 26644.175536122, 24791.24328559276, 12309.602346874732, 11767.664709202556, 10799.331484395381, 9424.770058455138, 9318.443404304464, 9093.386815401518, 7988.925576821108, 7189.36269281318, 5690.584956597542, 5530.596701032027, 5242.825522294583, 4819.338209782283, 4223.540397655399, 3858.570182473791, 3602.061700198684, 3589.3627366389023, 2738.6589233200357, 2735.9277905828158, 2454.9491157698603, 2210.2798394156416, 1832.5252709184904, 5586.094014764846, 254698.91352818802, 75767.45370459638, 49534.28166345904, 33942.356887024434, 28953.95988783859, 28356.884212318248, 19283.686282719365, 18228.666260117287, 13897.346256481567, 13043.385546191643, 11381.84780414174, 8814.62097793401, 8590.336208275374, 8312.144265293746, 8088.424047555636, 7742.086514487443, 7246.580916783694, 6481.455986883306, 3369.8086747530338, 2891.474671424584, 2732.619962337457, 1434.0108562029075, 926.4529589196246, 2332.3678657645614, 2745.0389453448374, 0.06309610943487891, 0.06309357553396619, 0.06309334115918717, 0.063103724404114, 0.0630969982901729, 0.06309478278518639, 46.673249577670404, 0.06310144256664287, 88434.81483858437, 42890.88925119845, 40543.36975118687, 40035.26533143796, 29748.701968171987, 22719.220321266228, 22043.47433444055, 21593.440162674673, 19231.03523587368, 19042.644044414654, 18335.096544793218, 14064.329791977676, 12723.412507518336, 12047.119848553493, 11495.99347035242, 10473.831599039127, 10060.101012915107, 9937.827538887765, 9850.475025550304, 9819.879608161582, 9511.95342842235, 8727.455561261542, 7985.688094078679, 7850.955050879484, 6903.895111935005, 6416.175299025435, 6411.3810982549685, 6052.370115461001, 5598.461404908775, 5033.207538061244, 32444.101849544164, 31982.524221623033, 24476.60961668123, 24144.53388824889, 23642.43415357768, 18589.287066555455, 15747.88538334557, 13907.820194544676, 13385.666788657067, 11321.958294166958, 10963.343155149794, 10266.641875580432, 10213.233628769409, 10205.369623904187, 10139.828603192585, 8995.636082946667, 8438.370858837026, 8081.3028274281205, 8033.886640333538, 6999.259344931808, 6635.79091283038, 6539.191202191925, 6159.83463564022, 6006.3787203983175, 5387.141100421982, 5355.530003152203, 5124.099772692129, 5076.617975755322, 4558.002913246977, 4329.291132543404, 12535.05032495023, 8882.473328222186, 21576.69496564921, 11385.059362843947, 60653.24989456724, 41885.976566444915, 38560.12452830287, 31463.71358939156, 30479.145567574084, 28294.065710490566, 22403.618764674196, 18967.936794644353, 14515.003116062437, 12848.031056193524, 12062.288795344832, 10814.304660986292, 10609.529318129087, 9465.352383172938, 8527.165903768417, 7910.161750562604, 6760.729757997219, 6528.762712670458, 5783.709252220168, 5109.413145060525, 4591.4630280216525, 4520.177364863865, 4243.33486663771, 4045.1885934365123, 3705.9287227608447, 3618.694197498472, 3547.281333580365, 3449.976003073662, 3257.59826403334, 2976.3008944505673, 65293.078908552874, 50531.18066489217, 22118.821769331415, 22047.910905793666, 21841.711894567718, 19353.481936666656, 18205.927384295854, 18110.753654158954, 17901.68697040251, 16198.206206932738, 14428.231581285894, 11929.936485634633, 11312.807857425145, 10262.58839604916, 9362.111723242504, 9271.36127977594, 8100.741212295435, 7603.089249671049, 5933.271426222665, 5778.437144000208, 5746.684938114213, 4672.790286591903, 3726.29100515741, 3346.554201500491, 3020.5367609769023, 2998.1296320536553, 2391.8411988413104, 2215.969003120957, 2174.87623783853, 2168.0992991179933, 76994.12172234214, 59881.30729885307, 51476.165960798164, 46700.670105707955, 39713.06872109377, 30575.808753236786, 20486.39939384869, 14794.98133378335, 14300.57676977742, 6366.071603434018, 6011.248790149991, 5978.337317303007, 5767.617305740227, 5094.460731754033, 3781.567340468794, 3645.609890902216, 3217.8327099503363, 2518.8454074212864, 2468.2689046111486, 1400.492757745105, 0.06084842157577653, 0.06085097426175133, 0.060847070491983554, 0.060851060501142376, 0.06084866879536418, 0.06084719122713102, 0.060847116486325445, 0.06085369942650822, 0.060850232602988386, 0.06084735795662036, 0.060854722800615234, 0.06086174843633869, 0.06085112374336247, 0.060854912527275526, 0.06085858632533386, 0.060853647682873595, 0.06085464231051693, 0.06085252082149733, 0.06085283128330508, 0.06085248632574092, 37151.91497663129, 25780.185211615466, 24120.033752889038, 23989.615057749634, 23908.605428314266, 20507.933742000365, 20482.146597242736, 15503.603384335198, 15412.695385004765, 15021.296568946387, 14750.65215638221, 14566.448274111473, 14227.679954305535, 14206.079099223785, 11971.67017845175, 8418.557886528222, 8321.489632768502, 7066.0109396352955, 6747.932139773688, 6734.9729113004, 6519.825739896269, 5784.213430109865, 5554.504165143453, 5100.9943268866355, 4798.944891568149, 4740.68973761362, 3974.61478412456, 3661.158672871121, 2136.7379868842413, 1829.6938712266706, 27155.821616806305, 17312.99752162404, 16661.855939340534, 15853.498698462387, 15515.21105144263, 15465.839975177953, 15179.48996828223, 13485.83725102934, 12977.766584546705, 12166.040815924998, 9057.65674376392, 8023.855439550795, 7368.821398414717, 6963.17157942153, 6928.813574441968, 6521.677886823614, 6264.548565739862, 6235.522083725635, 5948.582479688568, 5891.515903294684, 5722.183813872965, 5670.783727066779, 5505.888984851009, 5222.573237651295, 5169.718019511671, 5082.6668657488735, 5038.217249034877, 5033.574520834194, 4832.2134748561875, 4536.077831993694, 10733.822736322336, 58136.65700795618, 46836.1881944379, 34910.76653550527, 25985.169984761164, 24524.379472955283, 17860.649064731213, 15513.919265553492, 15292.28692219731, 14500.741512746303, 10554.55429442441, 10086.63130389977, 9744.504714580113, 7886.182511196694, 7287.007807059035, 7273.636722307828, 5786.99580025923, 4366.529050933703, 3548.201027880026, 3451.7415172650713, 3415.9355596885066, 2668.0921553706316, 2437.9067135832624, 2229.674462017405, 2161.118728505605, 2131.4012655623687, 1868.8268954063753, 1547.2818777442849, 1417.5421767645337, 1405.6179631244643, 1190.8433810789847, 2270.6466561378984, 26906.861836854456, 23714.981764689644, 21038.66944346625, 16255.26761677261, 15230.419366315751, 15126.661986871355, 14555.261551969623, 13522.44752338481, 12920.779758399201, 12147.535830883451, 10845.690615863588, 10548.628164845544, 9929.440284882548, 8704.83619297975, 7914.26456375879, 6161.0335730289635, 6128.997091562012, 6064.430946486799, 6025.211473992348, 5721.197190553651, 5667.877699742192, 5215.250431571312, 5159.51986455237, 5014.3118723670505, 4954.212604688898, 4572.069995639248, 4485.671182827681, 4307.283065102052, 3994.611169466332, 3785.5397018345634, 23176.941326642176, 22073.852734134238, 18665.17309428465, 12958.216284839995, 12496.23138504763, 11407.720280831849, 10654.273582798049, 10421.564717434132, 9996.991181991558, 9890.688618661057, 9041.996047051687, 8952.803182264097, 8662.37238525999, 8456.603074319326, 7802.946195385498, 7674.5742363460195, 6831.845135072834, 6506.772905941118, 6281.3595917400835, 6047.596162388365, 4723.284236330033, 4717.271546026195, 4546.570938421705, 4505.952945540978, 4413.043973195578, 4242.178426337782, 3835.133482779847, 3822.16192683654, 3341.5155904784965, 2861.9376939502004, 29705.63448386308, 28792.40772970908, 28518.42557682256, 18492.107186321657, 14594.666007618696, 11964.75680378853, 11883.152247869792, 11030.09993626416, 8299.417839165208, 7571.080553561931, 7428.280400808601, 6554.505316894496, 6169.452454466405, 5782.099976802835, 5651.231789893966, 5042.254020041926, 4332.620406226636, 4314.638202140874, 4314.080199848105, 4008.1488840405077, 3925.8082292563527, 3837.555827758351, 3378.61937513248, 3048.507791797293, 2972.1444716999144, 2930.3841048129066, 2913.3647826220345, 2641.129792429777, 2310.9929829511557, 2245.952669595732, 34607.424980453674, 28780.193290641917, 25848.504931164738, 19879.898547398894, 19605.545868704943, 13932.002573928443, 11813.916349843239, 11062.648064921623, 10536.26063054921, 9256.008307673843, 8104.8044940003165, 7997.926024325979, 6761.996015281409, 6641.096462437277, 6416.488812227901, 5922.2343471745535, 4057.2804815390637, 3498.1474176830534, 3141.638979504282, 2821.9338440461447, 2631.4603916556525, 2581.848362282029, 2417.324620904301, 2232.606140874372, 1497.3923370824202, 1098.0238550815366, 988.9991542665587, 0.06521913255645913, 0.06521507374570008, 0.06521606280608361, 0.06522115463546543, 0.06522566768136359, 0.0652234697694002, 27199.198834600633, 27019.440210421977, 24044.905119310082, 22711.22530394748, 19035.21906249261, 17325.19285197853, 15169.433898469211, 14751.587276100547, 11382.565315924792, 10944.103661899137, 9665.256348232688, 7088.968430744338, 6592.774725224208, 6337.564079919935, 6201.512769463362, 2833.5104311947102, 2358.046868695643, 2115.9759724310115, 1590.6520235589758, 1476.2749712586185, 1274.5184083337404, 291.79847262081535, 0.06315930994227525, 0.06315719397289073, 0.06316062471936855, 0.06315665984469658, 0.06316152862862019, 0.06315665984469658, 0.06315813896892654, 0.06315826222927903, 0.06316117939095478, 0.06316141906386241, 0.06316504154866634, 0.06316276123214515, 0.0631642745953619, 0.06316832849139957, 0.06316260373280586, 0.06316247362465599, 0.06316505524426105, 95730.06499093231, 45526.0421946708, 18022.87984132124, 7505.420296214196, 4998.445751284923, 4636.7228463506835, 3916.560962886791, 2718.7468211508967, 1602.030606668601, 1367.8632051408638, 1022.8063350188123, 618.1797403152603, 0.06918505400327596, 0.06918266315089115, 0.06918338481370777, 0.06918173765964543, 0.06918178173065713, 0.06918151179571046, 0.06918099396132298, 0.06918114820986393, 0.069182685186397, 0.0691806799553646, 0.06918071851749984, 0.06918112066548161, 0.069180768097388, 0.06918044307367671, 0.06918048163581195, 0.06918094989031127, 0.0691806799553646, 0.06918222244077414, 2297.822983502163, 0.06918408994989499, 0.06918117024536978, 0.06919498650753812, 0.06918350600898994, 0.06918837034690647, 0.06918784700364251, 0.06918251992010313, 0.06918307631662586, 0.06918649182003271, 0.06918472347068819, 0.06918589135249828, 0.06918396324573635, 0.06919186848346026, 0.06918453616888846, 0.06918493831687024, 0.06918678379048522, 0.06918576464833963, 0.06918664606857367, 0.06918536800923432, 0.06918508705653473, 0.06918626595609774, 0.06918541208024602, 0.06918669013958537, 0.06918537902698725, 0.06918588033474535], \"Total\": [254700.0, 134517.0, 95731.0, 135413.0, 123889.0, 128528.0, 88436.0, 76995.0, 88480.0, 75768.0, 81824.0, 96029.0, 65294.0, 546917.0, 75377.0, 540168.0, 58137.0, 59882.0, 60654.0, 518197.0, 45527.0, 64389.0, 51477.0, 61320.0, 50532.0, 433723.0, 56800.0, 46837.0, 85996.0, 46701.0, 546917.5971682284, 540168.0298731915, 433723.35742250696, 371193.22399102506, 342513.78941554384, 328015.6028372768, 294362.33674514847, 261920.65337950183, 260706.9605030524, 250231.6708165855, 207425.37661629514, 199329.80112571208, 189800.33415149458, 177302.74806506868, 169028.68657968883, 161720.09300555268, 158025.11639076367, 147621.20029792006, 140188.77658519082, 138561.56861614203, 134582.40532543143, 132863.43555321303, 126306.60519536004, 120728.43118604833, 117828.51301240627, 117590.14036711982, 112362.7044888706, 110158.19218114384, 108559.90218277814, 105503.87006205942, 518197.6016470009, 350753.45385998784, 243773.7352044696, 141685.4728626947, 126022.45070257602, 64225.074806455785, 55128.341006091585, 55109.55990092273, 53755.98560415589, 52199.48041092125, 51515.18345826595, 50064.744028913316, 39980.29819118128, 39233.110914167, 35500.80677373291, 35026.54430128414, 29093.411170540036, 25444.363774831323, 24916.67011329542, 24001.526472599002, 23318.851764280626, 22048.411554740524, 21884.645329479834, 20390.24439749458, 18897.94446976031, 18391.148746324372, 18285.29532308768, 17535.06798656398, 16418.237170058062, 16073.725228810286, 15564.182239278163, 15321.958738513264, 15022.340760667375, 13474.583816771572, 11209.03782860123, 47028.13074140773, 27709.105033691543, 96029.5944328849, 57213.33490758, 62813.96875056828, 85996.52069869761, 23162.182925552006, 47031.32116775384, 41283.65260516876, 34575.538629660936, 31770.579603916394, 28040.355152169122, 27453.143772662734, 24700.135061136974, 22967.71026636339, 22800.180669409772, 20810.730170078394, 19437.723692003558, 18703.36211555225, 18492.19959201589, 17651.699719686836, 16673.37732424764, 16371.011584771319, 16138.419133019626, 16053.971279408459, 15784.353003373668, 15528.936979132506, 15461.475488862612, 14750.04126692119, 14604.527225298103, 13750.2179902527, 13235.552361016298, 13012.48879313897, 12792.296174826366, 10558.566097444402, 10494.745449890672, 10074.667601259995, 13837.372331390945, 25925.036514813124, 22481.966657103694, 17578.50224866999, 135413.7832431429, 128528.49983171995, 81824.29708451584, 75377.48817386506, 64389.69841304579, 53422.72200289631, 50465.36633072449, 50118.645765299545, 22512.817390754735, 14547.802858673027, 12111.198114726498, 9576.945969251246, 8560.525464950735, 8347.242597117656, 5479.368062756867, 5381.991700532959, 5283.336865586733, 4073.088177707651, 3891.0411432920814, 3407.7657355681204, 2503.2019547924724, 1615.9700383950772, 1441.606756056982, 1381.3066807560422, 1288.5755774094696, 1109.2677556593558, 1081.7375074887125, 602.888609095497, 61320.6082196454, 33607.09500247796, 29530.735607562074, 94906.35448395729, 134517.54028370304, 123889.2307507648, 88480.00774864834, 56800.12707722151, 49608.52817739274, 38597.93507028403, 31587.729461188577, 26645.378434394457, 24792.446183865217, 12310.80524514719, 11768.867607475015, 10800.53438266784, 9425.972956727597, 9319.646302576923, 9094.589713673977, 7990.1284750935665, 7190.5655910856385, 5691.787854870001, 5531.799599304486, 5244.028420567041, 4820.541108054742, 4224.743295927858, 3859.773080746249, 3603.2645984711417, 3590.565634931489, 2739.8618215924935, 2737.130688887438, 2456.152014042318, 2211.4827376880994, 1833.7281692107274, 45242.95662992592, 254700.1133925124, 75768.65356892082, 49535.481527783464, 33943.55675134886, 28955.159752163017, 28358.084076642674, 19284.88614704379, 18229.866124441713, 13898.546120805993, 13044.585410516069, 11383.047668466166, 8815.820842258436, 8591.5360725998, 8313.344129618172, 8089.623911880063, 7743.28637881187, 7247.780781108121, 6482.655851213062, 3371.0085390774602, 2892.6745357490104, 2733.8198266618833, 1435.2107205273333, 927.6528232440506, 18280.535321773717, 22481.966657103694, 1.2630690094108525, 1.2630531193162218, 1.2630493374522014, 1.2632595215723732, 1.2631273090513477, 1.2630860223901685, 7371.768588677821, 1.2632778923188768, 88436.01509636967, 42892.089508983714, 40544.57000897213, 40036.46558922322, 29749.90222595726, 22720.4205790515, 22044.674592225823, 21594.640420459946, 19232.23557052681, 19043.844302199926, 18336.29680257849, 14065.530049762947, 12724.612765303607, 12048.320106338764, 11497.19372813769, 10475.031856824398, 10061.301270700378, 9939.027796673035, 9851.675283335575, 9821.079865946853, 9513.153686207621, 8728.655819046813, 7986.8883518639495, 7852.155308664755, 6905.095369720276, 6417.375556810706, 6412.581356040239, 6053.570373246272, 5599.661662694046, 5034.407795846515, 32445.303904115797, 31983.726276194666, 24477.811671252864, 24145.735942820524, 23643.636208149313, 18590.489121127088, 15749.087437917198, 13909.022249116304, 13386.868843228694, 11323.160348738586, 10964.545209721422, 10267.84393015206, 10214.435683341037, 10206.571678475815, 10141.030657764213, 8996.838137518294, 8439.572913408654, 8082.504881999749, 8035.088694905166, 7000.461399503437, 6636.992967402009, 6540.393256763554, 6161.0366902118485, 6007.580774969946, 5388.34315499361, 5356.7320577238315, 5125.301827268789, 5077.8200303269505, 4559.204967818606, 4330.493187120782, 17969.995881008348, 11932.24936560937, 47467.16088305449, 23610.827874837687, 60654.44923169838, 41887.175903576055, 38561.32386543401, 31464.912926522713, 30480.344904705238, 28295.26504762172, 22404.81810180535, 18969.136131775507, 14516.202453193586, 12849.230393324673, 12063.48813247598, 10815.503998117441, 10610.728655260236, 9466.551720304087, 8528.365240899566, 7911.361087727662, 6761.92909512837, 6529.962049801609, 5784.908589351319, 5110.612482191676, 4592.662365152803, 4521.3767019950155, 4244.534203768861, 4046.3879305676633, 3707.1280598919957, 3619.893534629623, 3548.480670711516, 3451.175340204813, 3258.797601164491, 2977.5002315817183, 65294.28060543509, 50532.382361774384, 22120.02346621364, 22049.11260267589, 21842.913591449942, 19354.68363354888, 18207.12908117808, 18111.95535104118, 17902.888667284733, 16199.407903814958, 14429.433278168113, 11931.138182516852, 11314.009554307364, 10263.790092931378, 9363.313420124723, 9272.562976658159, 8101.942909182714, 7604.290946558601, 5934.473123104886, 5779.63884088243, 5747.886634996435, 4673.991983474125, 3727.492702039631, 3347.755898382712, 3021.738457859123, 2999.331328935876, 2393.0428957235313, 2217.170700003178, 2176.077934720751, 2169.300996000214, 76995.3238267371, 59882.509403248005, 51477.3680651931, 46701.87221010289, 39714.270825488704, 30577.010857631733, 20487.601498243635, 14796.183438178292, 14301.778874172363, 6367.273707828962, 6012.450894544935, 5979.539421697951, 5768.819410135171, 5095.6628361489775, 3782.7694448637376, 3646.8119952971597, 3219.0348143452798, 2520.0475118265695, 2469.471009006092, 1401.6948621450583, 1.262979700228451, 1.2630330903710152, 1.2629533189224438, 1.263040158479427, 1.262990940218406, 1.2629648906343154, 1.2629633599843817, 1.2631009400606432, 1.2630297444960439, 1.262971267346771, 1.2631273090513477, 1.2632778923188768, 1.263055639518537, 1.2631561205832218, 1.2632595215723732, 1.263132520341599, 1.263162226092488, 1.2631023308572682, 1.263127960123251, 1.263127731054417, 37153.11479020761, 25781.385025191805, 24121.233566465376, 23990.814871325972, 23909.805241890605, 20509.133555576704, 20483.346410819075, 15504.803197911533, 15413.8951985811, 15022.496382522722, 14751.851969958545, 14567.648087687809, 14228.87976788187, 14207.27891280012, 11972.869992028085, 8419.757700104557, 8322.689446344837, 7067.210753211631, 6749.131953350023, 6736.172724876735, 6521.025553472604, 5785.4132436862, 5555.703978719788, 5102.194140462971, 4800.144705144484, 4741.8895511899555, 3975.8145977066447, 3662.358486447456, 2137.9378004605765, 1830.893684803005, 27157.022069826835, 17314.19797464457, 16663.056392361064, 15854.699151482915, 15516.411504463158, 15467.040428198481, 15180.690421324016, 13487.037704049868, 12978.967037567234, 12167.241268945527, 9058.85719678445, 8025.055892571324, 7370.0218514352455, 6964.372032442058, 6930.014027462496, 6522.878339844143, 6265.749018760391, 6236.722536746163, 5949.782932709097, 5892.716356315213, 5723.384266893494, 5671.984180087307, 5507.0894378715375, 5223.773690671824, 5170.918472610145, 5083.867318769402, 5039.417702055405, 5034.774973854723, 4833.413927876716, 4537.278285014223, 36188.86094683298, 58137.85545695973, 46837.38664344145, 34911.96498450882, 25986.36843376473, 24525.577921958848, 17861.847513734778, 15515.117714557056, 15293.485371200875, 14501.939961749868, 10555.752743427975, 10087.829752903335, 9745.703163583677, 7887.380960200258, 7288.2062560626, 7274.8351713113925, 5788.194249262795, 4367.727499937268, 3549.3994768835896, 3452.939966268635, 3417.1340086920704, 2669.2906043741955, 2439.1051625868263, 2230.872911020969, 2162.3171775091687, 2132.5997145659326, 1870.025344409939, 1548.4803267478485, 1418.7406257680973, 1406.8164121280279, 1192.0418300825484, 4722.383129543206, 26908.066207512762, 23716.18613534795, 21039.873814124556, 16256.471987430912, 15231.623736974054, 15127.866357529658, 14556.465922627925, 13523.651894043112, 12921.984129057504, 12148.740201541754, 10846.894986521891, 10549.832535503847, 9930.644655540851, 8706.040563638053, 7915.468934417094, 6162.237943687267, 6130.201462220316, 6065.635317145103, 6026.415844650652, 5722.401561211955, 5669.0820704004955, 5216.454802234945, 5160.724235210673, 5015.516243025354, 4955.416975352951, 4573.274366297552, 4486.875553491016, 4308.487435760356, 3995.8155401246345, 3786.744072492866, 23178.138959264037, 22075.0503667561, 18666.370726906513, 12959.413917461856, 12497.42901766949, 11408.91791345371, 10655.47121541991, 10422.762350055993, 9998.188814618748, 9891.886251282918, 9043.193679673548, 8954.000814885958, 8663.570017881852, 8457.800706941187, 7804.143828007359, 7675.77186896788, 6833.042767694695, 6507.970538562979, 6282.5572243619445, 6048.793795010226, 4724.481868951894, 4718.469178648056, 4547.768571043566, 4507.150578162839, 4414.2416058174385, 4243.376058959643, 3836.331115401708, 3823.359559458401, 3342.7132231003575, 2863.1353265720613, 29706.830103345714, 28793.603349191715, 28519.621196305194, 18493.30280580429, 14595.86162710133, 11965.952423271165, 11884.347867352426, 11031.295555746794, 8300.613458647842, 7572.2761730445645, 7429.476020291235, 6555.700936377129, 6170.648073949038, 5783.2955962854685, 5652.4274093766, 5043.44963952456, 4333.8160257092695, 4315.833821623507, 4315.275819330738, 4009.3445035231407, 3927.0038487389857, 3838.751447240984, 3379.814994615113, 3049.703411279926, 2973.3400911825474, 2931.5797242955396, 2914.5604021046674, 2642.32541191241, 2312.1886024388473, 2247.148289078365, 34608.6227191604, 28781.391029348644, 25849.702669871465, 19881.09628610562, 19606.74360741167, 13933.200312635172, 11815.114088549968, 11063.845803628352, 10537.458369255939, 9257.206046380572, 8106.002232707046, 7999.123763032708, 6763.193753988138, 6642.294201144006, 6417.68655093463, 5923.432085881283, 4058.4782202457923, 3499.345156389782, 3142.8367182110105, 2823.1315827528733, 2632.658130362381, 2583.0461009887576, 2418.5223596110295, 2233.803879581101, 1498.5900757891488, 1099.2215937997637, 990.1968929790363, 1.2630462359068968, 1.2629799182611035, 1.2630232586950183, 1.2631243261370597, 1.2632778923188768, 1.2632595215723732, 27200.39863043769, 27020.640006259033, 24046.104915147138, 22712.425099784537, 19036.418858329667, 17326.392647815584, 15170.633694306267, 14752.787071937602, 11383.765111761848, 10945.303457736192, 9666.456144069743, 7090.168226581393, 6593.974521061264, 6338.76387575699, 6202.712565300418, 2834.710227031766, 2359.2466645326986, 2117.1757682680673, 1591.8518193960313, 1477.474767095674, 1275.7182041758542, 292.9982684629294, 1.262996752311032, 1.262978531043627, 1.2630472788035443, 1.2629700939024042, 1.2630699812332478, 1.2629782641899412, 1.26300884729812, 1.2630130977140943, 1.2630725840692967, 1.2630785913863334, 1.263162226092488, 1.2631170018173714, 1.2631561205832218, 1.2632778923188768, 1.263127731054417, 1.263127960123251, 1.2632595215723732, 95731.25876055319, 45527.23596429167, 18024.073610942112, 7506.61406583507, 4999.639520905796, 4637.916615971557, 3917.754732507664, 2719.9405907717696, 1603.224376289474, 1369.056974761737, 1024.0001046396853, 619.3735099411437, 1.263008097216143, 1.2629804656895705, 1.262999235720242, 1.2629702832805412, 1.262972338563224, 1.2629679755721557, 1.26295857267517, 1.2629623495570383, 1.2629904856468015, 1.2629544889877646, 1.2629557515011482, 1.2629638197503608, 1.26295813709564, 1.2629522911422582, 1.2629533814375205, 1.26296195472743, 1.2629570850654648, 1.2629852727735755, 47467.16088305449, 1.2630224990005947, 1.2629667183516087, 1.2632595215723732, 1.263016453793369, 1.2631243261370597, 1.2631162548362433, 1.26299753854419, 1.2630105620729013, 1.2630952443923003, 1.2630531193162218, 1.2630854968292604, 1.2630385039561502, 1.2632778923188768, 1.2630566393931062, 1.2630690094108525, 1.263127960123251, 1.263097102648097, 1.2631273090513477, 1.263086548153355, 1.2630778899293302, 1.263132520341599, 1.2630957700970273, 1.263162226092488, 1.2631023308572682, 1.2631561205832218], \"Category\": [\"Default\", \"Default\", \"Default\", \"Default\", \"Default\", \"Default\", \"Default\", \"Default\", \"Default\", \"Default\", \"Default\", \"Default\", \"Default\", \"Default\", \"Default\", \"Default\", \"Default\", \"Default\", \"Default\", \"Default\", \"Default\", \"Default\", \"Default\", \"Default\", \"Default\", \"Default\", \"Default\", \"Default\", \"Default\", \"Default\", \"Topic1\", \"Topic1\", \"Topic1\", \"Topic1\", \"Topic1\", \"Topic1\", \"Topic1\", \"Topic1\", \"Topic1\", \"Topic1\", \"Topic1\", \"Topic1\", \"Topic1\", \"Topic1\", \"Topic1\", \"Topic1\", \"Topic1\", \"Topic1\", \"Topic1\", \"Topic1\", \"Topic1\", \"Topic1\", \"Topic1\", \"Topic1\", \"Topic1\", \"Topic1\", \"Topic1\", \"Topic1\", \"Topic1\", \"Topic1\", \"Topic1\", \"Topic1\", \"Topic1\", \"Topic1\", \"Topic1\", \"Topic2\", \"Topic2\", \"Topic2\", \"Topic2\", \"Topic2\", \"Topic2\", \"Topic2\", \"Topic2\", \"Topic2\", \"Topic2\", \"Topic2\", \"Topic2\", \"Topic2\", \"Topic2\", \"Topic2\", \"Topic2\", \"Topic2\", \"Topic2\", \"Topic2\", \"Topic2\", \"Topic2\", \"Topic2\", \"Topic2\", \"Topic2\", \"Topic2\", \"Topic2\", \"Topic2\", \"Topic2\", \"Topic2\", \"Topic2\", \"Topic2\", \"Topic2\", \"Topic2\", \"Topic2\", \"Topic2\", \"Topic2\", \"Topic2\", \"Topic3\", \"Topic3\", \"Topic3\", \"Topic3\", \"Topic3\", \"Topic3\", \"Topic3\", \"Topic3\", \"Topic3\", \"Topic3\", \"Topic3\", \"Topic3\", \"Topic3\", \"Topic3\", \"Topic3\", \"Topic3\", \"Topic3\", \"Topic3\", \"Topic3\", \"Topic3\", \"Topic3\", \"Topic3\", \"Topic3\", \"Topic3\", \"Topic3\", \"Topic3\", \"Topic3\", \"Topic3\", \"Topic3\", \"Topic3\", \"Topic3\", \"Topic3\", \"Topic3\", \"Topic3\", \"Topic4\", \"Topic4\", \"Topic4\", \"Topic4\", \"Topic4\", \"Topic4\", \"Topic4\", \"Topic4\", \"Topic4\", \"Topic4\", \"Topic4\", \"Topic4\", \"Topic4\", \"Topic4\", \"Topic4\", \"Topic4\", \"Topic4\", \"Topic4\", \"Topic4\", \"Topic4\", \"Topic4\", \"Topic4\", \"Topic4\", \"Topic4\", \"Topic4\", \"Topic4\", \"Topic4\", \"Topic4\", \"Topic4\", \"Topic4\", \"Topic4\", \"Topic4\", \"Topic5\", \"Topic5\", \"Topic5\", \"Topic5\", \"Topic5\", \"Topic5\", \"Topic5\", \"Topic5\", \"Topic5\", \"Topic5\", \"Topic5\", \"Topic5\", \"Topic5\", \"Topic5\", \"Topic5\", \"Topic5\", \"Topic5\", \"Topic5\", \"Topic5\", \"Topic5\", \"Topic5\", \"Topic5\", \"Topic5\", \"Topic5\", \"Topic5\", \"Topic5\", \"Topic5\", \"Topic5\", \"Topic5\", \"Topic5\", \"Topic5\", \"Topic6\", \"Topic6\", \"Topic6\", \"Topic6\", \"Topic6\", \"Topic6\", \"Topic6\", \"Topic6\", \"Topic6\", \"Topic6\", \"Topic6\", \"Topic6\", \"Topic6\", \"Topic6\", \"Topic6\", \"Topic6\", \"Topic6\", \"Topic6\", \"Topic6\", \"Topic6\", \"Topic6\", \"Topic6\", \"Topic6\", \"Topic6\", \"Topic6\", \"Topic6\", \"Topic6\", \"Topic6\", \"Topic6\", \"Topic6\", \"Topic6\", \"Topic6\", \"Topic6\", \"Topic7\", \"Topic7\", \"Topic7\", \"Topic7\", \"Topic7\", \"Topic7\", \"Topic7\", \"Topic7\", \"Topic7\", \"Topic7\", \"Topic7\", \"Topic7\", \"Topic7\", \"Topic7\", \"Topic7\", \"Topic7\", \"Topic7\", \"Topic7\", \"Topic7\", \"Topic7\", \"Topic7\", \"Topic7\", \"Topic7\", \"Topic7\", \"Topic7\", \"Topic7\", \"Topic7\", \"Topic7\", \"Topic7\", \"Topic7\", \"Topic8\", \"Topic8\", \"Topic8\", \"Topic8\", \"Topic8\", \"Topic8\", \"Topic8\", \"Topic8\", \"Topic8\", \"Topic8\", \"Topic8\", \"Topic8\", \"Topic8\", \"Topic8\", \"Topic8\", \"Topic8\", \"Topic8\", \"Topic8\", \"Topic8\", \"Topic8\", \"Topic8\", \"Topic8\", \"Topic8\", \"Topic8\", \"Topic8\", \"Topic8\", \"Topic8\", \"Topic8\", \"Topic8\", \"Topic8\", \"Topic8\", \"Topic8\", \"Topic8\", \"Topic8\", \"Topic9\", \"Topic9\", \"Topic9\", \"Topic9\", \"Topic9\", \"Topic9\", \"Topic9\", \"Topic9\", \"Topic9\", \"Topic9\", \"Topic9\", \"Topic9\", \"Topic9\", \"Topic9\", \"Topic9\", \"Topic9\", \"Topic9\", \"Topic9\", \"Topic9\", \"Topic9\", \"Topic9\", \"Topic9\", \"Topic9\", \"Topic9\", \"Topic9\", \"Topic9\", \"Topic9\", \"Topic9\", \"Topic9\", \"Topic9\", \"Topic10\", \"Topic10\", \"Topic10\", \"Topic10\", \"Topic10\", \"Topic10\", \"Topic10\", \"Topic10\", \"Topic10\", \"Topic10\", \"Topic10\", \"Topic10\", \"Topic10\", \"Topic10\", \"Topic10\", \"Topic10\", \"Topic10\", \"Topic10\", \"Topic10\", \"Topic10\", \"Topic10\", \"Topic10\", \"Topic10\", \"Topic10\", \"Topic10\", \"Topic10\", \"Topic10\", \"Topic10\", \"Topic10\", \"Topic10\", \"Topic11\", \"Topic11\", \"Topic11\", \"Topic11\", \"Topic11\", \"Topic11\", \"Topic11\", \"Topic11\", \"Topic11\", \"Topic11\", \"Topic11\", \"Topic11\", \"Topic11\", \"Topic11\", \"Topic11\", \"Topic11\", \"Topic11\", \"Topic11\", \"Topic11\", \"Topic11\", \"Topic11\", \"Topic11\", \"Topic11\", \"Topic11\", \"Topic11\", \"Topic11\", \"Topic11\", \"Topic11\", \"Topic11\", \"Topic11\", \"Topic11\", \"Topic11\", \"Topic11\", \"Topic11\", \"Topic11\", \"Topic11\", \"Topic11\", \"Topic11\", \"Topic11\", \"Topic11\", \"Topic12\", \"Topic12\", \"Topic12\", \"Topic12\", \"Topic12\", \"Topic12\", \"Topic12\", \"Topic12\", \"Topic12\", \"Topic12\", \"Topic12\", \"Topic12\", \"Topic12\", \"Topic12\", \"Topic12\", \"Topic12\", \"Topic12\", \"Topic12\", \"Topic12\", \"Topic12\", \"Topic12\", \"Topic12\", \"Topic12\", \"Topic12\", \"Topic12\", \"Topic12\", \"Topic12\", \"Topic12\", \"Topic12\", \"Topic12\", \"Topic13\", \"Topic13\", \"Topic13\", \"Topic13\", \"Topic13\", \"Topic13\", \"Topic13\", \"Topic13\", \"Topic13\", \"Topic13\", \"Topic13\", \"Topic13\", \"Topic13\", \"Topic13\", \"Topic13\", \"Topic13\", \"Topic13\", \"Topic13\", \"Topic13\", \"Topic13\", \"Topic13\", \"Topic13\", \"Topic13\", \"Topic13\", \"Topic13\", \"Topic13\", \"Topic13\", \"Topic13\", \"Topic13\", \"Topic13\", \"Topic13\", \"Topic14\", \"Topic14\", \"Topic14\", \"Topic14\", \"Topic14\", \"Topic14\", \"Topic14\", \"Topic14\", \"Topic14\", \"Topic14\", \"Topic14\", \"Topic14\", \"Topic14\", \"Topic14\", \"Topic14\", \"Topic14\", \"Topic14\", \"Topic14\", \"Topic14\", \"Topic14\", \"Topic14\", \"Topic14\", \"Topic14\", \"Topic14\", \"Topic14\", \"Topic14\", \"Topic14\", \"Topic14\", \"Topic14\", \"Topic14\", \"Topic14\", \"Topic15\", \"Topic15\", \"Topic15\", \"Topic15\", \"Topic15\", \"Topic15\", \"Topic15\", \"Topic15\", \"Topic15\", \"Topic15\", \"Topic15\", \"Topic15\", \"Topic15\", \"Topic15\", \"Topic15\", \"Topic15\", \"Topic15\", \"Topic15\", \"Topic15\", \"Topic15\", \"Topic15\", \"Topic15\", \"Topic15\", \"Topic15\", \"Topic15\", \"Topic15\", \"Topic15\", \"Topic15\", \"Topic15\", \"Topic15\", \"Topic16\", \"Topic16\", \"Topic16\", \"Topic16\", \"Topic16\", \"Topic16\", \"Topic16\", \"Topic16\", \"Topic16\", \"Topic16\", \"Topic16\", \"Topic16\", \"Topic16\", \"Topic16\", \"Topic16\", \"Topic16\", \"Topic16\", \"Topic16\", \"Topic16\", \"Topic16\", \"Topic16\", \"Topic16\", \"Topic16\", \"Topic16\", \"Topic16\", \"Topic16\", \"Topic16\", \"Topic16\", \"Topic16\", \"Topic16\", \"Topic17\", \"Topic17\", \"Topic17\", \"Topic17\", \"Topic17\", \"Topic17\", \"Topic17\", \"Topic17\", \"Topic17\", \"Topic17\", \"Topic17\", \"Topic17\", \"Topic17\", \"Topic17\", \"Topic17\", \"Topic17\", \"Topic17\", \"Topic17\", \"Topic17\", \"Topic17\", \"Topic17\", \"Topic17\", \"Topic17\", \"Topic17\", \"Topic17\", \"Topic17\", \"Topic17\", \"Topic17\", \"Topic17\", \"Topic17\", \"Topic18\", \"Topic18\", \"Topic18\", \"Topic18\", \"Topic18\", \"Topic18\", \"Topic18\", \"Topic18\", \"Topic18\", \"Topic18\", \"Topic18\", \"Topic18\", \"Topic18\", \"Topic18\", \"Topic18\", \"Topic18\", \"Topic18\", \"Topic18\", \"Topic18\", \"Topic18\", \"Topic18\", \"Topic18\", \"Topic18\", \"Topic18\", \"Topic18\", \"Topic18\", \"Topic18\", \"Topic18\", \"Topic18\", \"Topic18\", \"Topic18\", \"Topic18\", \"Topic18\", \"Topic19\", \"Topic19\", \"Topic19\", \"Topic19\", \"Topic19\", \"Topic19\", \"Topic19\", \"Topic19\", \"Topic19\", \"Topic19\", \"Topic19\", \"Topic19\", \"Topic19\", \"Topic19\", \"Topic19\", \"Topic19\", \"Topic19\", \"Topic19\", \"Topic19\", \"Topic19\", \"Topic19\", \"Topic19\", \"Topic19\", \"Topic19\", \"Topic19\", \"Topic19\", \"Topic19\", \"Topic19\", \"Topic19\", \"Topic19\", \"Topic19\", \"Topic19\", \"Topic19\", \"Topic19\", \"Topic19\", \"Topic19\", \"Topic19\", \"Topic19\", \"Topic19\", \"Topic20\", \"Topic20\", \"Topic20\", \"Topic20\", \"Topic20\", \"Topic20\", \"Topic20\", \"Topic20\", \"Topic20\", \"Topic20\", \"Topic20\", \"Topic20\", \"Topic20\", \"Topic20\", \"Topic20\", \"Topic20\", \"Topic20\", \"Topic20\", \"Topic20\", \"Topic20\", \"Topic20\", \"Topic20\", \"Topic20\", \"Topic20\", \"Topic20\", \"Topic20\", \"Topic20\", \"Topic20\", \"Topic20\", \"Topic20\", \"Topic20\", \"Topic20\", \"Topic20\", \"Topic20\", \"Topic20\", \"Topic20\", \"Topic20\", \"Topic20\", \"Topic20\", \"Topic20\", \"Topic20\", \"Topic20\", \"Topic20\", \"Topic20\", \"Topic20\", \"Topic20\", \"Topic20\", \"Topic20\", \"Topic20\", \"Topic20\", \"Topic20\", \"Topic20\", \"Topic20\", \"Topic20\", \"Topic20\", \"Topic20\"], \"logprob\": [30.0, 29.0, 28.0, 27.0, 26.0, 25.0, 24.0, 23.0, 22.0, 21.0, 20.0, 19.0, 18.0, 17.0, 16.0, 15.0, 14.0, 13.0, 12.0, 11.0, 10.0, 9.0, 8.0, 7.0, 6.0, 5.0, 4.0, 3.0, 2.0, 1.0, -3.373300075531006, -3.385699987411499, -3.6052000522613525, -3.7609000205993652, -3.8413000106811523, -3.884500026702881, -3.992799997329712, -4.109600067138672, -4.114200115203857, -4.155200004577637, -4.342800140380859, -4.382599830627441, -4.431600093841553, -4.49970006942749, -4.547500133514404, -4.591700077056885, -4.614799976348877, -4.683000087738037, -4.734600067138672, -4.746300220489502, -4.775400161743164, -4.788300037384033, -4.838900089263916, -4.884099960327148, -4.908400058746338, -4.910399913787842, -4.955900192260742, -4.9756999015808105, -4.990300178527832, -5.018899917602539, -3.4282000064849854, -3.8178000450134277, -4.181600093841553, -4.724599838256836, -4.841700077056885, -3.0933001041412354, -3.2460999488830566, -3.2464001178741455, -3.2713000774383545, -3.3006999492645264, -3.313800096511841, -3.342400074005127, -3.5673000812530518, -3.586199998855591, -3.686199903488159, -3.6995999813079834, -3.885200023651123, -4.0192999839782715, -4.040200233459473, -4.077600002288818, -4.106500148773193, -4.162499904632568, -4.170000076293945, -4.240699768066406, -4.316699981689453, -4.343900203704834, -4.349699974060059, -4.391600131988525, -4.457399845123291, -4.478600025177002, -4.510799884796143, -4.526500225067139, -4.546199798583984, -4.65500020980835, -4.839099884033203, -3.4052000045776367, -3.938199996948242, -2.7149999141693115, -3.4888999462127686, -3.6714999675750732, -3.616300106048584, -4.362800121307373, -3.1854000091552734, -3.3157999515533447, -3.4930999279022217, -3.577699899673462, -3.7026000022888184, -3.72379994392395, -3.8294999599456787, -3.9021999835968018, -3.9094998836517334, -4.000800132751465, -4.0690999031066895, -4.107600212097168, -4.118899822235107, -4.165500164031982, -4.222499847412109, -4.240799903869629, -4.255099773406982, -4.260300159454346, -4.277299880981445, -4.293600082397461, -4.297999858856201, -4.345099925994873, -4.355000019073486, -4.415299892425537, -4.453400135040283, -4.470399856567383, -4.487500190734863, -4.6793999671936035, -4.685500144958496, -4.72629976272583, -4.408999919891357, -3.9203999042510986, -4.053800106048584, -4.473899841308594, -1.8106000423431396, -1.8628000020980835, -2.3143999576568604, -2.3965001106262207, -2.553999900817871, -2.7407000064849854, -2.7976999282836914, -2.8046000003814697, -3.6048998832702637, -4.041600227355957, -4.224899768829346, -4.459700107574463, -4.571899890899658, -4.5971999168396, -5.018199920654297, -5.036099910736084, -5.054599761962891, -5.314899921417236, -5.360599994659424, -5.493299961090088, -5.8018999099731445, -6.239799976348877, -6.354000091552734, -6.3968000411987305, -6.466400146484375, -6.616300106048584, -6.641499996185303, -7.2270002365112305, -2.6526999473571777, -5.0258002281188965, -5.736400127410889, -5.888700008392334, -1.676300048828125, -1.7585999965667725, -2.0952999591827393, -2.5385000705718994, -2.6738998889923096, -2.924799919128418, -3.1252999305725098, -3.2953999042510986, -3.367500066757202, -4.067599773406982, -4.11269998550415, -4.198500156402588, -4.334700107574463, -4.3460001945495605, -4.370500087738037, -4.5, -4.605400085449219, -4.839200019836426, -4.867700099945068, -4.921199798583984, -5.00540018081665, -5.13730001449585, -5.227700233459473, -5.296500205993652, -5.300000190734863, -5.570499897003174, -5.571499824523926, -5.679900169372559, -5.784900188446045, -5.972300052642822, -4.857699871063232, -0.8934000134468079, -2.1059000492095947, -2.530900001525879, -2.908900022506714, -3.0678000450134277, -3.08870005607605, -3.474299907684326, -3.5304999351501465, -3.801800012588501, -3.8652000427246094, -4.001500129699707, -4.2571001052856445, -4.282899856567383, -4.315800189971924, -4.343100070953369, -4.386899948120117, -4.453000068664551, -4.564599990844727, -5.218699932098389, -5.371799945831299, -5.428299903869629, -6.0731000900268555, -6.509900093078613, -5.586599826812744, -5.423699855804443, -16.104400634765625, -16.104400634765625, -16.104400634765625, -16.104299545288086, -16.104400634765625, -16.104400634765625, -9.498100280761719, -16.104299545288086, -1.9335999488830566, -2.6572000980377197, -2.713399887084961, -2.726099967956543, -3.0230000019073486, -3.29259991645813, -3.3227999210357666, -3.343400001525879, -3.4593000411987305, -3.469099998474121, -3.506999969482422, -3.772200107574463, -3.8724000453948975, -3.927000045776367, -3.97379994392395, -4.06689977645874, -4.1072001457214355, -4.119500160217285, -4.128300189971924, -4.131400108337402, -4.163300037384033, -4.249300003051758, -4.338200092315674, -4.355199813842773, -4.483699798583984, -4.557000160217285, -4.557700157165527, -4.6153998374938965, -4.693299770355225, -4.799799919128418, -2.7202999591827393, -2.734600067138672, -3.0020999908447266, -3.015700101852417, -3.0367000102996826, -3.2771999835968018, -3.4430999755859375, -3.5673000812530518, -3.605600118637085, -3.7730000019073486, -3.8052000999450684, -3.8708999156951904, -3.8761000633239746, -3.8768999576568604, -3.8833000659942627, -4.002999782562256, -4.066999912261963, -4.110199928283691, -4.116099834442139, -4.254000186920166, -4.307300090789795, -4.322000026702881, -4.381700038909912, -4.4070000648498535, -4.5157999992370605, -4.521699905395508, -4.565800189971924, -4.575099945068359, -4.6828999519348145, -4.734399795532227, -3.671299934387207, -4.015699863433838, -3.128200054168701, -3.7674999237060547, -1.9732999801635742, -2.3434998989105225, -2.4261999130249023, -2.6296000480651855, -2.661400079727173, -2.73580002784729, -2.9691998958587646, -3.135699987411499, -3.4033000469207764, -3.5253000259399414, -3.588399887084961, -3.6975998878479004, -3.7167000770568848, -3.8308000564575195, -3.9351999759674072, -4.010300159454346, -4.167300224304199, -4.202300071716309, -4.323400020599365, -4.447400093078613, -4.554299831390381, -4.569900035858154, -4.6331000328063965, -4.6809000968933105, -4.768499851226807, -4.792399883270264, -4.812300205230713, -4.840099811553955, -4.897500038146973, -4.987800121307373, -1.8655999898910522, -2.1219000816345215, -2.9481000900268555, -2.9512999057769775, -2.960700035095215, -3.081700086593628, -3.1428000926971436, -3.1480000019073486, -3.159600019454956, -3.2595999240875244, -3.3752999305725098, -3.565500020980835, -3.6185998916625977, -3.7160000801086426, -3.8078999519348145, -3.8176000118255615, -3.9526000022888184, -4.015999794006348, -4.263999938964844, -4.29040002822876, -4.295899868011475, -4.502799987792969, -4.729100227355957, -4.836599826812744, -4.9390997886657715, -4.946499824523926, -5.172500133514404, -5.248799800872803, -5.267600059509277, -5.270699977874756, -1.65910005569458, -1.9105000495910645, -2.0617001056671143, -2.15910005569458, -2.3210999965667725, -2.5826001167297363, -2.983099937438965, -3.308500051498413, -3.3424999713897705, -4.151800155639648, -4.209199905395508, -4.214700222015381, -4.2505998611450195, -4.37470006942749, -4.672699928283691, -4.7093000411987305, -4.834099769592285, -5.078999996185303, -5.099299907684326, -5.665999889373779, -15.710000038146973, -15.70989990234375, -15.710000038146973, -15.70989990234375, -15.70989990234375, -15.710000038146973, -15.710000038146973, -15.70989990234375, -15.70989990234375, -15.710000038146973, -15.709799766540527, -15.709699630737305, -15.70989990234375, -15.709799766540527, -15.709799766540527, -15.70989990234375, -15.709799766540527, -15.70989990234375, -15.70989990234375, -15.70989990234375, -2.333400011062622, -2.6988000869750977, -2.765399932861328, -2.7708001136779785, -2.774199962615967, -2.9275999069213867, -2.928800106048584, -3.2072999477386475, -3.213200092315674, -3.2388999462127686, -3.2571001052856445, -3.269700050354004, -3.2932000160217285, -3.2946999073028564, -3.46589994430542, -3.818000078201294, -3.8296000957489014, -3.9930999279022217, -4.0391998291015625, -4.041100025177002, -4.073599815368652, -4.193299770355225, -4.233799934387207, -4.318999767303467, -4.380000114440918, -4.392199993133545, -4.56850004196167, -4.650599956512451, -5.1890997886657715, -5.344299793243408, -2.625499963760376, -3.0755999088287354, -3.1138999462127686, -3.1637001037597656, -3.1851999759674072, -3.1884000301361084, -3.2070999145507812, -3.3254001140594482, -3.363800048828125, -3.4284000396728516, -3.723400115966797, -3.844599962234497, -3.929800033569336, -3.9863998889923096, -3.9914000034332275, -4.0518999099731445, -4.092100143432617, -4.096799850463867, -4.143899917602539, -4.153500080108643, -4.182700157165527, -4.191699981689453, -4.221199989318848, -4.274099826812744, -4.284200191497803, -4.301199913024902, -4.309999942779541, -4.3109002113342285, -4.3516998291015625, -4.414999961853027, -3.5536000728607178, -1.812000036239624, -2.02810001373291, -2.322000026702881, -2.617300033569336, -2.675100088119507, -2.9921998977661133, -3.1331000328063965, -3.1475000381469727, -3.2005999088287354, -3.518199920654297, -3.5636000633239746, -3.598099946975708, -3.8097000122070312, -3.888700008392334, -3.890500068664551, -4.119200229644775, -4.4008002281188965, -4.608399868011475, -4.635900020599365, -4.646399974822998, -4.893400192260742, -4.983699798583984, -5.07289981842041, -5.1041998863220215, -5.118000030517578, -5.249499797821045, -5.438300132751465, -5.525899887084961, -5.534299850463867, -5.700099945068359, -5.054699897766113, -2.5727999210357666, -2.6991000175476074, -2.8189001083374023, -3.0768001079559326, -3.141900062561035, -3.1487998962402344, -3.187299966812134, -3.2609000205993652, -3.3064000606536865, -3.3680999279022217, -3.4814999103546143, -3.509200096130371, -3.569700002670288, -3.7014000415802, -3.796600103378296, -4.046999931335449, -4.052199840545654, -4.06279993057251, -4.069300174713135, -4.121099948883057, -4.13040018081665, -4.213600158691406, -4.224400043487549, -4.252900123596191, -4.264999866485596, -4.345300197601318, -4.364299774169922, -4.404900074005127, -4.480299949645996, -4.533999919891357, -2.4955999851226807, -2.5443999767303467, -2.712100028991699, -3.0769999027252197, -3.113300085067749, -3.2044999599456787, -3.2727999687194824, -3.2948999404907227, -3.3364999294281006, -3.3471999168395996, -3.4368999004364014, -3.4467999935150146, -3.47979998588562, -3.5037999153137207, -3.5843000411987305, -3.600800037384033, -3.7172000408172607, -3.765899896621704, -3.8011999130249023, -3.839099884033203, -4.086299896240234, -4.087500095367432, -4.1244001388549805, -4.133399963378906, -4.154200077056885, -4.193699836730957, -4.294600009918213, -4.297900199890137, -4.432300090789795, -4.587299823760986, -2.2102999687194824, -2.241499900817871, -2.2511000633239746, -2.684299945831299, -2.9210000038146973, -3.1196999549865723, -3.126499891281128, -3.2009999752044678, -3.4853999614715576, -3.5773000717163086, -3.596299886703491, -3.7214999198913574, -3.7820000648498535, -3.8468000888824463, -3.8696999549865723, -3.983799934387207, -4.13539981842041, -4.139599800109863, -4.139699935913086, -4.2133002281188965, -4.234000205993652, -4.256800174713135, -4.384099960327148, -4.486999988555908, -4.51230001449585, -4.526500225067139, -4.532299995422363, -4.63040018081665, -4.763899803161621, -4.792500019073486, -2.007999897003174, -2.1923999786376953, -2.299799919128418, -2.5624001026153564, -2.5762999057769775, -2.9179000854492188, -3.0827999114990234, -3.1484999656677246, -3.1972999572753906, -3.3268001079559326, -3.4595999717712402, -3.472899913787842, -3.6407999992370605, -3.658799886703491, -3.69320011138916, -3.773400068283081, -4.151599884033203, -4.299799919128418, -4.407299995422363, -4.514699935913086, -4.584499835968018, -4.603600025177002, -4.669400215148926, -4.748899936676025, -5.148399829864502, -5.458600044250488, -5.5630998611450195, -15.189800262451172, -15.189900398254395, -15.189900398254395, -15.189800262451172, -15.18970012664795, -15.189800262451172, -2.181299924850464, -2.187999963760376, -2.3046000003814697, -2.3617000579833984, -2.5381999015808105, -2.6324000358581543, -2.765199899673462, -2.7932000160217285, -3.0524001121520996, -3.0917000770568848, -3.2160000801086426, -3.5260000228881836, -3.598599910736084, -3.638000011444092, -3.6596999168395996, -4.442999839782715, -4.626699924468994, -4.735000133514404, -5.020400047302246, -5.09499979019165, -5.242000102996826, -6.71619987487793, -15.154399871826172, -15.154399871826172, -15.154399871826172, -15.154399871826172, -15.15429973602295, -15.154399871826172, -15.154399871826172, -15.154399871826172, -15.154399871826172, -15.15429973602295, -15.15429973602295, -15.15429973602295, -15.15429973602295, -15.154199600219727, -15.15429973602295, -15.15429973602295, -15.15429973602295, -0.7053999900817871, -1.448699951171875, -2.3752999305725098, -3.251300096511841, -3.6577999591827393, -3.7330000400543213, -3.901700019836426, -4.2667999267578125, -4.7957000732421875, -4.953700065612793, -5.2444000244140625, -5.747900009155273, -14.84570026397705, -14.84570026397705, -14.84570026397705, -14.84570026397705, -14.84570026397705, -14.84570026397705, -14.84570026397705, -14.84570026397705, -14.84570026397705, -14.845800399780273, -14.845800399780273, -14.84570026397705, -14.845800399780273, -14.845800399780273, -14.845800399780273, -14.84570026397705, -14.845800399780273, -14.84570026397705, -4.434999942779541, -14.84570026397705, -14.84570026397705, -14.845499992370605, -14.84570026397705, -14.845600128173828, -14.845600128173828, -14.84570026397705, -14.84570026397705, -14.84570026397705, -14.84570026397705, -14.84570026397705, -14.84570026397705, -14.845600128173828, -14.84570026397705, -14.84570026397705, -14.84570026397705, -14.84570026397705, -14.84570026397705, -14.84570026397705, -14.84570026397705, -14.84570026397705, -14.84570026397705, -14.84570026397705, -14.84570026397705, -14.84570026397705], \"loglift\": [30.0, 29.0, 28.0, 27.0, 26.0, 25.0, 24.0, 23.0, 22.0, 21.0, 20.0, 19.0, 18.0, 17.0, 16.0, 15.0, 14.0, 13.0, 12.0, 11.0, 10.0, 9.0, 8.0, 7.0, 6.0, 5.0, 4.0, 3.0, 2.0, 1.0, 0.4789, 0.4789, 0.4789, 0.4789, 0.4789, 0.4789, 0.4789, 0.4789, 0.4789, 0.4789, 0.4789, 0.4789, 0.4789, 0.4789, 0.4789, 0.4789, 0.4789, 0.4789, 0.4789, 0.4789, 0.4789, 0.4789, 0.4788, 0.4788, 0.4788, 0.4788, 0.4788, 0.4788, 0.4788, 0.4788, 0.4779, 0.4786, 0.4786, 0.4782, 0.4783, 2.9007, 2.9007, 2.9007, 2.9007, 2.9007, 2.9007, 2.9007, 2.9007, 2.9007, 2.9007, 2.9007, 2.9007, 2.9007, 2.9007, 2.9007, 2.9007, 2.9007, 2.9007, 2.9007, 2.9007, 2.9007, 2.9007, 2.9007, 2.9007, 2.9007, 2.9007, 2.9007, 2.9007, 2.9007, 2.9006, 2.9005, 2.8965, 2.8768, 2.6208, 2.3448, 2.0858, 2.6512, 3.1202, 3.1202, 3.1202, 3.1202, 3.1202, 3.1202, 3.1202, 3.1202, 3.1202, 3.1202, 3.1202, 3.1202, 3.1202, 3.1202, 3.1201, 3.1201, 3.1201, 3.1201, 3.1201, 3.1201, 3.1201, 3.1201, 3.1201, 3.1201, 3.1201, 3.1201, 3.1201, 3.1201, 3.1201, 3.1201, 3.12, 2.9808, 2.9899, 2.8159, 3.4375, 3.4375, 3.4375, 3.4375, 3.4375, 3.4375, 3.4375, 3.4375, 3.4374, 3.4374, 3.4374, 3.4374, 3.4374, 3.4373, 3.4373, 3.4373, 3.4373, 3.4372, 3.4372, 3.4371, 3.437, 3.4368, 3.4367, 3.4366, 3.4366, 3.4364, 3.4364, 3.4355, 3.3876, 1.6159, 1.0346, -0.2851, 3.5784, 3.5784, 3.5784, 3.5784, 3.5784, 3.5784, 3.5784, 3.5784, 3.5784, 3.5783, 3.5783, 3.5783, 3.5783, 3.5783, 3.5783, 3.5783, 3.5783, 3.5782, 3.5782, 3.5782, 3.5782, 3.5782, 3.5781, 3.5781, 3.5781, 3.578, 3.578, 3.5779, 3.5779, 3.5778, 1.4867, 3.7229, 3.7229, 3.7229, 3.7229, 3.7229, 3.7229, 3.7229, 3.7229, 3.7228, 3.7228, 3.7228, 3.7228, 3.7228, 3.7228, 3.7228, 3.7228, 3.7228, 3.7227, 3.7226, 3.7225, 3.7225, 3.7221, 3.7216, 1.664, 1.62, 0.7263, 0.7263, 0.7263, 0.7263, 0.7263, 0.7263, -1.3393, 0.7262, 3.7406, 3.7406, 3.7406, 3.7406, 3.7406, 3.7406, 3.7406, 3.7406, 3.7406, 3.7406, 3.7406, 3.7405, 3.7405, 3.7405, 3.7405, 3.7405, 3.7405, 3.7405, 3.7405, 3.7405, 3.7405, 3.7405, 3.7405, 3.7405, 3.7405, 3.7404, 3.7404, 3.7404, 3.7404, 3.7404, 3.9566, 3.9566, 3.9566, 3.9566, 3.9566, 3.9566, 3.9566, 3.9566, 3.9566, 3.9566, 3.9566, 3.9565, 3.9565, 3.9565, 3.9565, 3.9565, 3.9565, 3.9565, 3.9565, 3.9565, 3.9565, 3.9565, 3.9565, 3.9565, 3.9564, 3.9564, 3.9564, 3.9564, 3.9564, 3.9564, 3.5965, 3.6615, 3.1682, 3.2273, 4.078, 4.078, 4.078, 4.0779, 4.0779, 4.0779, 4.0779, 4.0779, 4.0779, 4.0779, 4.0779, 4.0779, 4.0779, 4.0779, 4.0778, 4.0778, 4.0778, 4.0778, 4.0778, 4.0777, 4.0777, 4.0777, 4.0777, 4.0777, 4.0777, 4.0777, 4.0776, 4.0776, 4.0776, 4.0776, 4.1119, 4.1119, 4.1119, 4.1119, 4.1119, 4.1119, 4.1119, 4.1119, 4.1119, 4.1118, 4.1118, 4.1118, 4.1118, 4.1118, 4.1118, 4.1118, 4.1118, 4.1118, 4.1117, 4.1117, 4.1117, 4.1117, 4.1116, 4.1116, 4.1115, 4.1115, 4.1114, 4.1114, 4.1114, 4.1114, 4.1536, 4.1536, 4.1536, 4.1536, 4.1536, 4.1536, 4.1536, 4.1535, 4.1535, 4.1534, 4.1534, 4.1534, 4.1534, 4.1534, 4.1533, 4.1533, 4.1533, 4.1531, 4.1531, 4.1528, 1.1208, 1.1208, 1.1208, 1.1208, 1.1208, 1.1208, 1.1208, 1.1208, 1.1208, 1.1208, 1.1208, 1.1208, 1.1208, 1.1207, 1.1207, 1.1207, 1.1207, 1.1208, 1.1207, 1.1207, 4.208, 4.208, 4.208, 4.208, 4.208, 4.208, 4.208, 4.208, 4.208, 4.208, 4.208, 4.208, 4.208, 4.208, 4.208, 4.2079, 4.2079, 4.2079, 4.2079, 4.2079, 4.2079, 4.2078, 4.2078, 4.2078, 4.2078, 4.2078, 4.2078, 4.2077, 4.2075, 4.2074, 4.2294, 4.2293, 4.2293, 4.2293, 4.2293, 4.2293, 4.2293, 4.2293, 4.2293, 4.2293, 4.2293, 4.2293, 4.2292, 4.2292, 4.2292, 4.2292, 4.2292, 4.2292, 4.2292, 4.2292, 4.2292, 4.2292, 4.2292, 4.2292, 4.2292, 4.2292, 4.2292, 4.2292, 4.2292, 4.2291, 3.0141, 4.2816, 4.2816, 4.2816, 4.2816, 4.2816, 4.2816, 4.2816, 4.2816, 4.2816, 4.2815, 4.2815, 4.2815, 4.2815, 4.2815, 4.2815, 4.2814, 4.2814, 4.2813, 4.2813, 4.2813, 4.2812, 4.2812, 4.2811, 4.2811, 4.2811, 4.281, 4.2809, 4.2808, 4.2808, 4.2806, 3.5494, 4.2912, 4.2912, 4.2912, 4.2911, 4.2911, 4.2911, 4.2911, 4.2911, 4.2911, 4.2911, 4.2911, 4.2911, 4.2911, 4.2911, 4.2911, 4.291, 4.291, 4.291, 4.291, 4.291, 4.291, 4.291, 4.291, 4.291, 4.291, 4.291, 4.291, 4.2909, 4.2909, 4.2909, 4.5176, 4.5176, 4.5176, 4.5176, 4.5176, 4.5176, 4.5176, 4.5176, 4.5176, 4.5176, 4.5176, 4.5176, 4.5176, 4.5175, 4.5175, 4.5175, 4.5175, 4.5175, 4.5175, 4.5175, 4.5174, 4.5174, 4.5174, 4.5174, 4.5174, 4.5174, 4.5174, 4.5174, 4.5173, 4.5173, 4.5548, 4.5548, 4.5548, 4.5548, 4.5548, 4.5547, 4.5547, 4.5547, 4.5547, 4.5547, 4.5547, 4.5547, 4.5546, 4.5546, 4.5546, 4.5546, 4.5546, 4.5546, 4.5546, 4.5545, 4.5545, 4.5545, 4.5545, 4.5544, 4.5544, 4.5544, 4.5544, 4.5544, 4.5543, 4.5543, 4.6043, 4.6043, 4.6043, 4.6043, 4.6043, 4.6043, 4.6043, 4.6043, 4.6043, 4.6042, 4.6042, 4.6042, 4.6042, 4.6042, 4.6042, 4.6042, 4.6041, 4.604, 4.604, 4.6039, 4.6039, 4.6039, 4.6039, 4.6038, 4.6036, 4.6033, 4.6032, 1.6408, 1.6408, 1.6408, 1.6408, 1.6408, 1.6407, 4.6719, 4.6719, 4.6719, 4.6719, 4.6719, 4.6719, 4.6718, 4.6718, 4.6718, 4.6718, 4.6718, 4.6718, 4.6717, 4.6717, 4.6717, 4.6715, 4.6714, 4.6714, 4.6712, 4.6711, 4.671, 4.6678, 1.6763, 1.6763, 1.6763, 1.6763, 1.6763, 1.6763, 1.6763, 1.6763, 1.6763, 1.6763, 1.6763, 1.6763, 1.6763, 1.6763, 1.6763, 1.6763, 1.6762, 4.8895, 4.8895, 4.8894, 4.8893, 4.8893, 4.8892, 4.8892, 4.889, 4.8887, 4.8886, 4.8883, 4.8876, 1.985, 1.985, 1.985, 1.985, 1.985, 1.985, 1.985, 1.985, 1.985, 1.985, 1.985, 1.985, 1.985, 1.985, 1.985, 1.985, 1.985, 1.985, 1.8614, 1.985, 1.985, 1.985, 1.985, 1.985, 1.985, 1.985, 1.985, 1.985, 1.985, 1.985, 1.985, 1.9849, 1.985, 1.985, 1.985, 1.985, 1.985, 1.985, 1.985, 1.9849, 1.985, 1.9849, 1.985, 1.9849]}, \"token.table\": {\"Topic\": [17, 1, 8, 7, 13, 5, 1, 17, 19, 16, 13, 2, 14, 18, 8, 15, 16, 11, 2, 3, 15, 2, 18, 11, 4, 3, 14, 1, 2, 15, 14, 5, 16, 13, 16, 9, 7, 1, 2, 8, 15, 14, 14, 6, 16, 5, 7, 16, 6, 5, 4, 12, 2, 20, 14, 16, 9, 9, 4, 3, 15, 3, 19, 4, 13, 7, 12, 9, 8, 1, 13, 14, 12, 18, 17, 3, 20, 10, 10, 20, 10, 19, 9, 9, 15, 8, 1, 2, 3, 5, 18, 6, 1, 3, 3, 10, 1, 2, 7, 11, 10, 5, 13, 7, 9, 14, 15, 18, 15, 14, 11, 9, 7, 18, 16, 9, 12, 1, 2, 3, 16, 17, 8, 13, 8, 9, 6, 7, 17, 2, 1, 2, 18, 19, 1, 6, 13, 11, 14, 12, 3, 10, 8, 12, 16, 17, 19, 6, 9, 8, 5, 2, 6, 2, 4, 20, 3, 11, 16, 10, 14, 12, 18, 17, 8, 8, 11, 5, 12, 12, 13, 16, 4, 3, 7, 10, 5, 17, 2, 2, 7, 16, 2, 10, 4, 1, 14, 16, 9, 2, 1, 2, 11, 5, 5, 19, 12, 18, 17, 4, 10, 18, 2, 10, 5, 1, 12, 17, 8, 17, 17, 1, 19, 6, 1, 1, 4, 13, 1, 13, 6, 15, 1, 2, 10, 5, 18, 1, 4, 2, 1, 10, 8, 15, 2, 17, 5, 6, 2, 1, 8, 20, 16, 2, 20, 5, 4, 12, 16, 4, 1, 4, 5, 6, 7, 8, 4, 2, 11, 11, 14, 10, 9, 8, 9, 4, 2, 16, 18, 3, 13, 20, 1, 13, 3, 8, 15, 14, 9, 15, 6, 18, 9, 8, 1, 2, 1, 2, 6, 2, 7, 17, 5, 6, 1, 2, 6, 3, 1, 1, 2, 17, 16, 6, 8, 13, 1, 8, 1, 11, 7, 10, 18, 1, 17, 19, 7, 15, 17, 4, 13, 13, 6, 10, 10, 11, 7, 4, 11, 9, 5, 14, 11, 19, 10, 1, 17, 4, 12, 4, 16, 12, 3, 9, 1, 2, 12, 14, 1, 8, 8, 4, 5, 2, 14, 9, 3, 13, 20, 18, 1, 7, 1, 4, 6, 17, 15, 9, 18, 1, 9, 17, 17, 18, 17, 4, 5, 18, 12, 5, 9, 12, 14, 4, 12, 3, 8, 19, 12, 19, 13, 12, 14, 10, 15, 19, 18, 10, 8, 10, 5, 1, 3, 10, 15, 18, 8, 11, 7, 12, 15, 14, 13, 13, 3, 6, 12, 5, 5, 14, 13, 8, 15, 16, 2, 11, 13, 13, 12, 5, 10, 13, 16, 1, 2, 13, 3, 9, 3, 13, 16, 17, 19, 17, 20, 1, 15, 20, 7, 10, 14, 17, 8, 5, 12, 3, 1, 5, 18, 15, 12, 6, 9, 14, 14, 14, 1, 6, 20, 8, 9, 5, 3, 4, 4, 3, 3, 16, 6, 14, 19, 13, 15, 16, 7, 6, 4, 5, 7, 3, 19, 5, 7, 7, 15, 2, 12, 14, 1, 10, 18, 1, 4, 19, 2, 6, 15, 3, 13, 10, 15, 14, 8, 15, 10, 7, 3, 16, 8, 13, 16, 15, 18, 4, 17, 1, 15, 1, 10, 19, 17, 18, 20, 19, 19, 7, 2, 1, 12, 8, 10, 13, 7, 13, 7, 1, 1, 8, 7, 7, 1, 9, 1, 4, 4, 7, 9, 2, 19, 3, 14, 3, 18, 2, 14, 16, 16, 3, 15, 18, 17, 12, 19, 1, 2, 9, 9, 7, 10, 15, 17, 8, 3, 18, 4, 2, 1, 6, 1, 4, 17, 4, 15, 14, 6, 12, 1, 11, 9, 12, 20, 11, 16, 3, 8, 19, 11, 1, 5, 1, 16, 11], \"Freq\": [0.9997125698424351, 0.5177709170049185, 0.48219401964016334, 0.9998732562370775, 0.9999230591570485, 0.9998240612799897, 0.999989177553478, 0.9999295525619208, 0.9999327892174218, 0.9998310004056803, 0.9998029926552362, 0.9999246465960232, 0.9999351837235331, 0.9996155976819475, 0.9999772923208387, 0.999939071744932, 0.9998187793393934, 0.9999680007850505, 0.9999248180879762, 0.9999173938056546, 0.999730396395497, 0.999882458946925, 0.9996357698216987, 0.9999828064008136, 0.9997328371839317, 0.9999120649297847, 0.999927848860993, 0.023617719239511167, 0.9763760906595266, 0.9997959014583018, 0.9992498758416751, 0.9999262794430227, 0.9998994408665269, 0.9998979827129183, 0.9997521352681189, 0.9996385460229067, 0.9999240357594289, 0.4264656498043303, 0.5735189276616769, 0.9997912424024593, 0.9997550746488232, 0.9999473403231307, 0.9999723594902421, 0.9997001167912063, 0.9999104062399825, 0.999988610436708, 0.999891219900172, 0.9999265670372368, 0.999888756651771, 0.9999691952684572, 0.9999010738066417, 0.9999422465762076, 0.9999389709377522, 0.9990233354126099, 0.9991260121446609, 0.9998680024208448, 0.9998279578301926, 0.9999552911902542, 0.999318219546233, 0.9999502809222844, 0.9999584686613486, 0.9999554994738501, 0.9994715836408968, 0.9985260808015096, 0.9998021753806928, 0.9997203651544325, 0.9996290678663808, 0.9998766416098197, 0.9997507294997785, 0.7033656029515781, 0.29661060666623085, 0.9997936749854331, 0.9997615269507902, 0.9987912575897553, 0.999920405560922, 0.999851675177297, 0.9996720721766158, 0.9999726440411123, 0.9997556182080541, 0.9998073558557912, 0.9994719847221614, 0.9999196227487226, 0.999976106753639, 0.9999634854520294, 0.9998933969876034, 0.9998138099485593, 0.24417384553035665, 0.7558028223639, 0.9999394991188439, 0.9996854507093381, 0.9999235524750286, 0.9999540496616348, 0.00014453611221133906, 0.999828556221938, 0.999935129836236, 0.9998836193746015, 0.9999954588444865, 0.9999107488846954, 0.9999745988363778, 0.9997425517938112, 0.9999006698225438, 0.9998038873010283, 0.9998886466111159, 0.9998413679085333, 0.9998399176323947, 0.9994196740093522, 0.9997140552732496, 0.9998595142335588, 0.9996976895394443, 0.9996057144616423, 0.9994043222209423, 0.9998526714559332, 0.9998787272606251, 0.9999057064924115, 0.9996757160005327, 0.999659437701956, 0.9999381702638421, 0.18084589659739225, 0.0814631405874381, 0.7376055033915658, 0.9997187272631832, 0.9998056217584543, 0.9999598122390947, 0.9998293978353447, 0.9999068408805979, 0.99963803889321, 0.9997992599040756, 0.9999633936412305, 0.9998314677099196, 0.9999500226195595, 0.2208341077540341, 0.7791148208268425, 0.9999138523377086, 0.9999393054250879, 0.8723486330843784, 0.12756738021902367, 0.99982648398584, 0.999758685007099, 0.9994516949125829, 0.9999273363839527, 0.9998344758034711, 0.9999107695373141, 0.9999695207956276, 0.9999419226243875, 0.9996530238496975, 0.9997759761257404, 0.9997494533920986, 0.9997445720934341, 0.9994961439244217, 0.9996551923634881, 0.9996803039285015, 0.9999359793000498, 0.999156416190308, 0.9999716842702219, 0.9999671626143442, 0.9999728522001063, 0.9999114202950409, 0.9997965921859757, 0.999603467373154, 0.9998314407071601, 0.9998334374254626, 0.9998286801888453, 0.9999516691411049, 0.9997043481380673, 0.9999198987655793, 0.9998590721555827, 0.9987908480006379, 0.9999416683672724, 0.9998732872157183, 0.9998868665911005, 0.9999053747326149, 0.9996863425465483, 0.9999636922051759, 0.9999540463590921, 0.9998887737220288, 0.9999495397979983, 0.9995639586932328, 0.9997693509220194, 0.9999559105439904, 0.9999716393552274, 0.99992403642799, 0.9998508692445321, 0.9999816652202576, 0.99955612475253, 0.9988571238523, 0.5190176088565444, 0.4809012605929059, 0.9997866334762346, 0.9998609405426041, 0.9999464016925952, 0.9997535195761112, 0.00024518646660092217, 0.99967367618258, 0.9998587663393543, 0.9997822714964759, 0.9999466492715061, 0.9998124057550577, 0.9998616014218197, 0.9995492977118489, 0.9988854408109347, 0.9999130891805851, 0.9999531122872596, 0.9999329720509271, 0.9999537312329165, 0.9996490409081592, 0.9999929707631942, 0.9997951117471336, 0.9997588641341578, 0.9997869766069322, 0.9994983918686039, 0.9997443728660189, 0.9999871591996913, 0.9998794913689857, 0.9999781760814936, 0.9999917532687768, 0.9990358858369607, 0.0009610233594620927, 0.9998460757712615, 0.9999976952298908, 0.9999623644365643, 0.999821210946818, 0.9998048634332337, 0.9999916895395077, 0.9999374271573481, 0.9995641968117684, 0.9995869072339043, 0.9997582337637169, 0.838186103200024, 0.16175155869911356, 0.9999756748331782, 0.9999903021876132, 0.999980387172916, 0.9997459998820241, 0.9997991081002422, 0.9999716945494478, 0.9998013291533342, 0.9993295278037533, 0.9998922730789325, 0.9999240410283053, 0.49701729703455283, 0.45456689632564207, 0.04841241728490177, 0.9998619286383337, 0.9999851386653873, 0.9997849808421062, 0.9998233513887252, 0.9999883307459286, 0.9999100092744299, 0.9998473933604477, 0.9999841479296241, 0.9094930907553264, 0.090448136324651, 0.999799708239299, 0.9982182739030852, 0.9999374756709913, 0.9999307971018118, 0.9995198330721294, 0.9999675292271439, 0.9999455400493032, 0.9997773410589285, 0.9997277779869278, 0.9998457459145008, 0.9996957051729072, 0.9998645074190834, 0.9996955126533899, 0.9993997175863232, 0.9999634731465668, 0.9998810970025881, 0.9997337697481508, 0.999938208780436, 0.9997182705282934, 0.9998023647151395, 0.9999980934206867, 0.9999254919467447, 0.9999271726899243, 0.9998503889627598, 0.9998596640359638, 0.9993908490748402, 0.9997531599697408, 0.9999427310164446, 0.9998383166151653, 0.9998234925640812, 0.9999171647545243, 0.9999668405303642, 0.0042224387925102426, 0.9957376814029923, 0.9993896843413262, 0.0006069782473983154, 0.999833871724622, 0.999936401020129, 0.9998900461088197, 0.9999431550547592, 0.9999769068178999, 0.9999700915840974, 0.9994409670484643, 0.0005475214901418321, 0.9999079623931412, 0.9999294058299671, 0.9999881454100391, 0.9997139347091224, 0.00028304936108939304, 0.999806799413979, 0.9998534332487243, 0.9999956286139902, 0.9999178084359481, 0.9999090315139714, 0.30239294633021824, 0.6975516345692465, 0.9999937302250439, 0.9998579587820462, 0.9998965898180323, 0.9998597269934487, 0.9998697181012792, 0.9999895578814479, 0.9998117073488056, 0.9998809116858911, 0.9999292767458744, 0.9998804779703877, 0.999464618367991, 0.9997324255247528, 0.9997186774069499, 0.9998684098700824, 0.9994211115947143, 0.9997877652598395, 0.9997164457974714, 0.9999813238728639, 0.9998528673186737, 0.9998511368151579, 0.9999218308573713, 0.9999656685688845, 0.9998252022659596, 0.9999852857152537, 0.9995843285407702, 0.9999540501403018, 0.9999379868636596, 0.9999932413744491, 0.9994611354818539, 0.9997503247197125, 0.9999481968328601, 0.9999942159274768, 0.9996444071144087, 0.999561352785673, 0.9999690754387289, 0.999755246792803, 0.0002551664250910602, 0.9997207896380161, 0.9999003905552966, 0.9998851972186689, 0.25552600407327225, 0.7443692909736976, 0.9998385074063175, 0.99994481237608, 0.999948267411632, 0.9999772744958149, 0.9998249152402773, 0.9998360838930654, 0.9998855873643668, 0.9998653447453132, 0.9977824205925853, 0.9999728171004348, 0.9999933633178467, 0.9999357552312482, 0.9999891952725214, 0.9997752968873042, 0.9999599466149404, 0.9998825563379888, 0.9998343858230861, 0.9995827310759399, 0.9996401297408206, 0.9999872912793629, 0.9999042438117296, 0.9997474696668848, 0.9996646575214578, 0.999599174632955, 0.999804246966413, 0.9999012243303571, 0.9998615804225158, 0.9998763591868997, 0.999946278092102, 0.9999801571355647, 0.9998625991022237, 0.9999663216875898, 0.9998344920519234, 0.9998157372608247, 0.9997659555026531, 0.9998986753583053, 0.9998633387453502, 0.9998522103690042, 0.9999699947039729, 0.9998352328824845, 0.999936602725443, 0.9999099818615536, 0.999546898344615, 0.9999472530147815, 0.9998992940569698, 0.9965929202647977, 0.9989389521425254, 0.9999230213279671, 0.9999309523220641, 0.9999130115696667, 0.999857934560136, 0.13010589196558028, 0.8698541268057518, 0.9997517685101394, 0.9999094522211185, 0.9999620738952597, 0.999735706592024, 0.9999734239483385, 0.9998706657652556, 0.9998427312599538, 0.9998778514815336, 0.999935662190556, 0.9997581383969794, 0.9998223772788123, 0.8778591437757496, 0.12209785922499151, 0.9997557229489626, 0.9999900657163069, 0.999855454036226, 0.9999525517316097, 0.9999327325610021, 0.9998460130859483, 0.9996547661371807, 0.9998882270722721, 0.9999390942444707, 0.9997999602518428, 0.9999308096946609, 0.9998784335997363, 0.9999660340288422, 0.9996029023151012, 0.9995046433293809, 0.9998841480053176, 0.9998856550681369, 0.9999886792841789, 0.9999548810994363, 0.9998613502841859, 0.9999045699833968, 0.9999313284427573, 0.9999719087680073, 0.9997074680758126, 0.9999268571967402, 0.9994859405337464, 0.9999254661110251, 0.9999443157852711, 0.9996541870160838, 0.9999963157751885, 0.9998040093416635, 0.9999868511020383, 0.9998103007976097, 0.999904604028598, 0.9999286887968797, 0.9998930798729332, 0.9998594456526484, 0.9995309679385755, 0.9999488597271786, 0.9999482166642936, 0.8765121237405951, 0.12346673197536222, 0.9993701687495015, 0.9998035059991851, 0.9997970071626812, 0.9997008197796686, 0.9999709858875235, 0.9995164991132548, 0.9999279596469959, 0.9999028755600948, 0.9935200639977783, 0.006375674905501854, 0.9992363038464349, 0.9999350973525721, 0.9999719268833315, 0.9999757740852632, 0.9999142819871439, 0.9990540256018113, 0.9999802570515268, 0.9998954279536377, 0.9999599695021038, 0.9998908964964881, 0.9999617718658375, 0.9996681404097159, 0.9994370197324901, 0.9998536759870214, 0.9999210854294563, 0.999905329178479, 0.9999014936814988, 0.9999541370587572, 0.9987772720226181, 0.9999345903755964, 0.9997405872651267, 0.9999289692261493, 0.9998493611259348, 0.9998967791726049, 0.9998961722168107, 0.9997856511905017, 0.9999238407161257, 0.999977027000847, 0.999832281638906, 0.9999177471345513, 0.9999957808602695, 0.9999503617934933, 0.9988886737609103, 0.04861334690814387, 0.9513767344093274, 0.9994446525008979, 0.9999514951845363, 0.9999524887107892, 0.9998144223129085, 0.9999649137693668, 0.9998518904689142, 0.9994002694865245, 0.9997213448843255, 0.9990440132029591, 0.9998317344524996, 0.9999603759146221, 0.9999581744694398, 0.9999885216857797, 0.9998827127894662, 0.999688632352479, 0.9998983675526684, 0.9998928297871388, 0.9999524183755576, 0.9999499862523771, 0.9998051575096172, 0.9998218024165711, 0.9997329172026523, 0.9999900219322355, 0.9998091277587697, 0.9999929353587002, 0.9997742074375622, 0.9998923120589959, 0.9994890016453538, 0.9993705414361873, 0.9992279541456477, 0.9999485805169, 0.9999372546181979, 0.9999696729773965, 0.9999291603955641, 0.9999959809034697, 0.9995118860202409, 0.999897524303918, 0.999830234460034, 0.9998804582248431, 0.9999612769608414, 0.999868425518095, 0.9997533978982193, 0.9999951135334327, 0.9999970796912796, 0.9997368699599459, 0.9997032565904622, 0.9998904323318842, 0.9999968703034233, 0.9996569951790389, 0.9999933229211951, 0.9999736229072717, 0.9999864850971788, 0.9998299493956719, 0.999955876329174, 0.9999375380874671, 0.9994648877579859, 0.999939662377807, 0.9994779695776341, 0.9999583372792491, 0.9995950126525589, 0.9999074114462723, 0.9996087132455388, 0.9999508606249173, 0.9997447216056162, 0.9999627686855197, 0.9997211128457737, 0.9997372026631023, 0.9999409677124007, 0.9999447292313138, 0.9998851203738822, 0.5573248732692723, 0.4426690718497467, 0.9998429379933519, 0.999684483572704, 0.9999556653485226, 0.99959954259902, 0.9997650602468947, 0.999886584660137, 0.9999265046026964, 0.9999516713621576, 0.9999448578644837, 0.9999729253778613, 0.9999832650026641, 0.9999967025501924, 0.9998784621767441, 0.9758145332160526, 0.02417119498977038, 0.9999720568184883, 0.9997469656732583, 0.999917489150305, 0.9999703945172687, 0.9999068898661709, 0.9999342680247616, 0.9999944604324987, 0.9996785327264346, 0.9999401062985886, 0.9998259063529645, 0.9999404346117705, 0.9999200173353326, 0.999919544214388, 0.9999603596425303, 0.9998136264210532, 0.999001832634629, 0.999974793921246, 0.9999936874794695, 0.9999885495698198, 0.9999918690681444, 0.9998687680491141, 0.9999669406000332], \"Term\": [\"abandon\", \"accept\", \"accept\", \"account\", \"action\", \"activ\", \"actual\", \"add\", \"address\", \"adjust\", \"afford\", \"afraid\", \"ahead\", \"alcohol\", \"allow\", \"american\", \"anger\", \"answer\", \"apart\", \"area\", \"argument\", \"arm\", \"arrest\", \"ask\", \"asleep\", \"attend\", \"avail\", \"away\", \"away\", \"back\", \"backward\", \"ball\", \"bare\", \"base\", \"bathroom\", \"beach\", \"bear\", \"begin\", \"begin\", \"benefit\", \"bird\", \"birthday\", \"black\", \"bleed\", \"bless\", \"blog\", \"blogger\", \"blood\", \"bodi\", \"book\", \"boy\", \"brain\", \"breath\", \"brick\", \"bride\", \"bright\", \"british\", \"brother\", \"bucket\", \"build\", \"burn\", \"buy\", \"cage\", \"caller\", \"calm\", \"cancel\", \"cancer\", \"card\", \"career\", \"case\", \"case\", \"cash\", \"cell\", \"charg\", \"chat\", \"cheap\", \"chicken\", \"child\", \"childhood\", \"chines\", \"choke\", \"claim\", \"class\", \"clean\", \"clear\", \"click\", \"close\", \"close\", \"cloth\", \"code\", \"coffe\", \"cold\", \"collect\", \"collect\", \"color\", \"colour\", \"come\", \"comfort\", \"comment\", \"commit\", \"complain\", \"complex\", \"concern\", \"concert\", \"consist\", \"consol\", \"construct\", \"contain\", \"contract\", \"convent\", \"convict\", \"cook\", \"correct\", \"cost\", \"counter\", \"cours\", \"cousin\", \"cover\", \"cover\", \"cover\", \"crawl\", \"cream\", \"creat\", \"credit\", \"critic\", \"cross\", \"crush\", \"current\", \"danger\", \"dark\", \"dead\", \"dead\", \"dear\", \"death\", \"deep\", \"deep\", \"defend\", \"degre\", \"delay\", \"depend\", \"design\", \"destroy\", \"develop\", \"direct\", \"dirt\", \"disea\", \"dismiss\", \"disturb\", \"dive\", \"dog\", \"domain\", \"door\", \"dose\", \"dream\", \"drink\", \"drive\", \"driver\", \"drown\", \"duck\", \"dumb\", \"dust\", \"earth\", \"eat\", \"edit\", \"effect\", \"effort\", \"eld\", \"email\", \"employ\", \"enter\", \"equal\", \"error\", \"even\", \"event\", \"exam\", \"exist\", \"expert\", \"extent\", \"eye\", \"face\", \"fail\", \"fake\", \"fall\", \"famili\", \"farmer\", \"fashion\", \"fashion\", \"father\", \"fault\", \"fear\", \"feel\", \"feel\", \"fellow\", \"field\", \"file\", \"fill\", \"fire\", \"fish\", \"flame\", \"flush\", \"folk\", \"food\", \"foot\", \"form\", \"format\", \"friend\", \"frighten\", \"fuel\", \"gather\", \"geek\", \"german\", \"get\", \"ghost\", \"girl\", \"give\", \"go\", \"go\", \"gold\", \"good\", \"govern\", \"grab\", \"grasp\", \"great\", \"grind\", \"growth\", \"guarante\", \"habit\", \"half\", \"half\", \"hand\", \"happen\", \"hate\", \"haunt\", \"heal\", \"heart\", \"heat\", \"hectic\", \"hero\", \"hide\", \"high\", \"high\", \"high\", \"hit\", \"hold\", \"hole\", \"holi\", \"home\", \"honest\", \"host\", \"hour\", \"hous\", \"hous\", \"html\", \"http\", \"huge\", \"human\", \"humid\", \"hurt\", \"husband\", \"ideal\", \"ignor\", \"improv\", \"inch\", \"increa\", \"info\", \"input\", \"insid\", \"intern\", \"jail\", \"join\", \"journey\", \"kitchen\", \"know\", \"lack\", \"larg\", \"large\", \"last\", \"lawn\", \"layer\", \"leader\", \"leg\", \"legal\", \"lesson\", \"level\", \"lie\", \"lie\", \"life\", \"life\", \"lift\", \"light\", \"limit\", \"link\", \"list\", \"listen\", \"live\", \"live\", \"load\", \"local\", \"long\", \"look\", \"look\", \"loser\", \"loss\", \"love\", \"low\", \"mail\", \"major\", \"major\", \"make\", \"male\", \"market\", \"match\", \"meal\", \"mean\", \"meat\", \"medium\", \"member\", \"mental\", \"menu\", \"midnight\", \"milk\", \"minor\", \"mode\", \"model\", \"modern\", \"moment\", \"moral\", \"morn\", \"mother\", \"move\", \"murder\", \"music\", \"myth\", \"name\", \"nation\", \"need\", \"neighborhood\", \"network\", \"news\", \"night\", \"noon\", \"obtain\", \"offer\", \"offic\", \"open\", \"open\", \"opinion\", \"option\", \"origin\", \"origin\", \"owner\", \"pack\", \"page\", \"pain\", \"pair\", \"park\", \"passion\", \"path\", \"patron\", \"pay\", \"peopl\", \"perform\", \"person\", \"phase\", \"phone\", \"photo\", \"physic\", \"pile\", \"plate\", \"play\", \"player\", \"plea\", \"pocket\", \"poison\", \"politician\", \"pool\", \"pop\", \"popular\", \"posit\", \"post\", \"pour\", \"power\", \"predict\", \"pregnant\", \"prevent\", \"price\", \"pride\", \"prison\", \"probabl\", \"proceed\", \"process\", \"product\", \"profit\", \"program\", \"project\", \"promis\", \"prosper\", \"protect\", \"provid\", \"public\", \"publish\", \"pull\", \"pull\", \"pure\", \"push\", \"put\", \"quarter\", \"question\", \"quick\", \"quiz\", \"race\", \"rain\", \"rat\", \"rate\", \"reach\", \"reach\", \"reaction\", \"read\", \"recommend\", \"record\", \"refer\", \"reflect\", \"region\", \"regret\", \"remain\", \"repeat\", \"report\", \"resist\", \"result\", \"retain\", \"revel\", \"rich\", \"ride\", \"right\", \"rise\", \"risk\", \"road\", \"roll\", \"room\", \"rough\", \"round\", \"rout\", \"rule\", \"run\", \"salad\", \"say\", \"scale\", \"school\", \"score\", \"screen\", \"season\", \"section\", \"seek\", \"select\", \"self\", \"sell\", \"send\", \"send\", \"servic\", \"sever\", \"sexual\", \"shadow\", \"share\", \"shave\", \"shirt\", \"shoe\", \"shoulder\", \"shoulder\", \"sidewalk\", \"similar\", \"sit\", \"site\", \"size\", \"skate\", \"sleep\", \"slow\", \"small\", \"smell\", \"smile\", \"snack\", \"sock\", \"soft\", \"soldier\", \"someday\", \"somewhat\", \"song\", \"soooooo\", \"space\", \"speech\", \"speed\", \"spell\", \"sport\", \"spot\", \"staff\", \"stage\", \"stand\", \"standard\", \"star\", \"start\", \"state\", \"stave\", \"stay\", \"stay\", \"steel\", \"step\", \"stick\", \"stomach\", \"store\", \"storm\", \"strengthen\", \"stretch\", \"strict\", \"strike\", \"strong\", \"student\", \"stuff\", \"style\", \"succeed\", \"success\", \"suffer\", \"suggest\", \"support\", \"suspect\", \"swim\", \"swing\", \"take\", \"talent\", \"talk\", \"tape\", \"tast\", \"tattoo\", \"tax\", \"taxi\", \"teach\", \"teacher\", \"team\", \"tear\", \"tell\", \"tempt\", \"term\", \"terror\", \"terrorist\", \"test\", \"text\", \"theme\", \"thing\", \"think\", \"threat\", \"threaten\", \"ticket\", \"time\", \"titl\", \"today\", \"tomorrow\", \"tonight\", \"topic\", \"total\", \"touch\", \"tourist\", \"town\", \"trail\", \"train\", \"trash\", \"tree\", \"trend\", \"tri\", \"trick\", \"trip\", \"troop\", \"truck\", \"trust\", \"truth\", \"tune\", \"turn\", \"turn\", \"twin\", \"unknown\", \"urllink\", \"useless\", \"victim\", \"video\", \"view\", \"visit\", \"vote\", \"wake\", \"walk\", \"want\", \"warm\", \"watch\", \"watch\", \"water\", \"wave\", \"weak\", \"wear\", \"weather\", \"websit\", \"week\", \"weigh\", \"weight\", \"welcom\", \"white\", \"wife\", \"wind\", \"window\", \"wise\", \"wit\", \"woman\", \"work\", \"write\", \"year\", \"yellow\", \"young\"]}, \"R\": 30, \"lambda.step\": 0.01, \"plot.opts\": {\"xlab\": \"PC1\", \"ylab\": \"PC2\"}, \"topic.order\": [15, 2, 19, 8, 12, 17, 13, 14, 20, 5, 1, 16, 18, 9, 10, 4, 3, 6, 11, 7]};\n",
              "\n",
              "function LDAvis_load_lib(url, callback){\n",
              "  var s = document.createElement('script');\n",
              "  s.src = url;\n",
              "  s.async = true;\n",
              "  s.onreadystatechange = s.onload = callback;\n",
              "  s.onerror = function(){console.warn(\"failed to load library \" + url);};\n",
              "  document.getElementsByTagName(\"head\")[0].appendChild(s);\n",
              "}\n",
              "\n",
              "if(typeof(LDAvis) !== \"undefined\"){\n",
              "   // already loaded: just create the visualization\n",
              "   !function(LDAvis){\n",
              "       new LDAvis(\"#\" + \"ldavis_el48951402830695618568392037879\", ldavis_el48951402830695618568392037879_data);\n",
              "   }(LDAvis);\n",
              "}else if(typeof define === \"function\" && define.amd){\n",
              "   // require.js is available: use it to load d3/LDAvis\n",
              "   require.config({paths: {d3: \"https://cdnjs.cloudflare.com/ajax/libs/d3/3.5.5/d3.min\"}});\n",
              "   require([\"d3\"], function(d3){\n",
              "      window.d3 = d3;\n",
              "      LDAvis_load_lib(\"https://cdn.rawgit.com/bmabey/pyLDAvis/files/ldavis.v1.0.0.js\", function(){\n",
              "        new LDAvis(\"#\" + \"ldavis_el48951402830695618568392037879\", ldavis_el48951402830695618568392037879_data);\n",
              "      });\n",
              "    });\n",
              "}else{\n",
              "    // require.js not available: dynamically load d3 & LDAvis\n",
              "    LDAvis_load_lib(\"https://cdnjs.cloudflare.com/ajax/libs/d3/3.5.5/d3.min.js\", function(){\n",
              "         LDAvis_load_lib(\"https://cdn.rawgit.com/bmabey/pyLDAvis/files/ldavis.v1.0.0.js\", function(){\n",
              "                 new LDAvis(\"#\" + \"ldavis_el48951402830695618568392037879\", ldavis_el48951402830695618568392037879_data);\n",
              "            })\n",
              "         });\n",
              "}\n",
              "</script>"
            ],
            "text/plain": [
              "PreparedData(topic_coordinates=              x         y  topics  cluster       Freq\n",
              "topic                                                \n",
              "14     0.331605 -0.048383       1        1  61.948946\n",
              "1      0.281501  0.022208       2        1   5.498195\n",
              "18     0.105021  0.139405       3        1   4.414739\n",
              "7      0.069289  0.043699       4        1   3.214518\n",
              "11     0.018066  0.013248       5        1   2.791930\n",
              "16    -0.011750  0.145537       6        1   2.416317\n",
              "12    -0.041693  0.072468       7        1   2.373912\n",
              "13     0.029277 -0.338573       8        1   1.912678\n",
              "19    -0.058477  0.041655       9        1   1.694160\n",
              "4     -0.054396  0.039886      10        1   1.637629\n",
              "0     -0.059651  0.039664      11        1   1.570736\n",
              "15    -0.059847  0.029707      12        1   1.487531\n",
              "17    -0.033858  0.017346      13        1   1.456102\n",
              "8     -0.065745  0.022467      14        1   1.381988\n",
              "9     -0.046752  0.023177      15        1   1.368820\n",
              "3     -0.080345  0.005349      16        1   1.091421\n",
              "2     -0.083209  0.000928      17        1   1.051622\n",
              "5     -0.083781  0.000075      18        1   1.000801\n",
              "10    -0.085188 -0.002056      19        1   0.935427\n",
              "6     -0.070067 -0.267806      20        1   0.752527, topic_info=         Term           Freq          Total Category  logprob  loglift\n",
              "681      love  254700.000000  254700.000000  Default  30.0000  30.0000\n",
              "669     write  134517.000000  134517.000000  Default  29.0000  29.0000\n",
              "370    school   95731.000000   95731.000000  Default  28.0000  28.0000\n",
              "745     night  135413.000000  135413.000000  Default  27.0000  27.0000\n",
              "342      read  123889.000000  123889.000000  Default  26.0000  26.0000\n",
              "...       ...            ...            ...      ...      ...      ...\n",
              "1669  forward       0.069186       1.263133  Topic20 -14.8457   1.9849\n",
              "1679  serious       0.069185       1.263096  Topic20 -14.8457   1.9850\n",
              "1743    shall       0.069187       1.263162  Topic20 -14.8457   1.9849\n",
              "1921    worth       0.069185       1.263102  Topic20 -14.8457   1.9850\n",
              "1744   appear       0.069186       1.263156  Topic20 -14.8457   1.9849\n",
              "\n",
              "[706 rows x 6 columns], token_table=      Topic      Freq     Term\n",
              "term                          \n",
              "1647     17  0.999713  abandon\n",
              "807       1  0.517771   accept\n",
              "807       8  0.482194   accept\n",
              "496       7  0.999873  account\n",
              "1043     13  0.999923   action\n",
              "...     ...       ...      ...\n",
              "486       1  0.999994     work\n",
              "669       5  0.999989    write\n",
              "540       1  0.999992     year\n",
              "948      16  0.999869   yellow\n",
              "755      11  0.999967    young\n",
              "\n",
              "[612 rows x 3 columns], R=30, lambda_step=0.01, plot_opts={'xlab': 'PC1', 'ylab': 'PC2'}, topic_order=[15, 2, 19, 8, 12, 17, 13, 14, 20, 5, 1, 16, 18, 9, 10, 4, 3, 6, 11, 7])"
            ]
          },
          "metadata": {
            "tags": []
          },
          "execution_count": 16
        }
      ]
    },
    {
      "cell_type": "code",
      "metadata": {
        "id": "9GuCc8DQ70F6"
      },
      "source": [
        "mallet_path = 'drive/My Drive/gssoc/mallet-2.0.8/bin/mallet'"
      ],
      "execution_count": null,
      "outputs": []
    },
    {
      "cell_type": "code",
      "metadata": {
        "id": "RwuX2h5b8Ohr",
        "outputId": "b6b5a24d-2c04-4ef1-87a0-8b8c54dcd51b",
        "colab": {
          "base_uri": "https://localhost:8080/",
          "height": 323
        }
      },
      "source": [
        "ldamallet = gensim.models.wrappers.LdaMallet(mallet_path, corpus=corpus, num_topics=20,id2word=id2word)"
      ],
      "execution_count": null,
      "outputs": [
        {
          "output_type": "error",
          "ename": "CalledProcessError",
          "evalue": "ignored",
          "traceback": [
            "\u001b[0;31m---------------------------------------------------------------------------\u001b[0m",
            "\u001b[0;31mCalledProcessError\u001b[0m                        Traceback (most recent call last)",
            "\u001b[0;32m<ipython-input-20-360ad0ab249f>\u001b[0m in \u001b[0;36m<module>\u001b[0;34m()\u001b[0m\n\u001b[0;32m----> 1\u001b[0;31m \u001b[0mldamallet\u001b[0m \u001b[0;34m=\u001b[0m \u001b[0mgensim\u001b[0m\u001b[0;34m.\u001b[0m\u001b[0mmodels\u001b[0m\u001b[0;34m.\u001b[0m\u001b[0mwrappers\u001b[0m\u001b[0;34m.\u001b[0m\u001b[0mLdaMallet\u001b[0m\u001b[0;34m(\u001b[0m\u001b[0mmallet_path\u001b[0m\u001b[0;34m,\u001b[0m \u001b[0mcorpus\u001b[0m\u001b[0;34m=\u001b[0m\u001b[0mcorpus\u001b[0m\u001b[0;34m,\u001b[0m \u001b[0mnum_topics\u001b[0m\u001b[0;34m=\u001b[0m\u001b[0;36m20\u001b[0m\u001b[0;34m,\u001b[0m\u001b[0mid2word\u001b[0m\u001b[0;34m=\u001b[0m\u001b[0mid2word\u001b[0m\u001b[0;34m)\u001b[0m\u001b[0;34m\u001b[0m\u001b[0;34m\u001b[0m\u001b[0m\n\u001b[0m",
            "\u001b[0;32m/usr/local/lib/python3.6/dist-packages/gensim/models/wrappers/ldamallet.py\u001b[0m in \u001b[0;36m__init__\u001b[0;34m(self, mallet_path, corpus, num_topics, alpha, id2word, workers, prefix, optimize_interval, iterations, topic_threshold, random_seed)\u001b[0m\n\u001b[1;32m    129\u001b[0m         \u001b[0mself\u001b[0m\u001b[0;34m.\u001b[0m\u001b[0mrandom_seed\u001b[0m \u001b[0;34m=\u001b[0m \u001b[0mrandom_seed\u001b[0m\u001b[0;34m\u001b[0m\u001b[0;34m\u001b[0m\u001b[0m\n\u001b[1;32m    130\u001b[0m         \u001b[0;32mif\u001b[0m \u001b[0mcorpus\u001b[0m \u001b[0;32mis\u001b[0m \u001b[0;32mnot\u001b[0m \u001b[0;32mNone\u001b[0m\u001b[0;34m:\u001b[0m\u001b[0;34m\u001b[0m\u001b[0;34m\u001b[0m\u001b[0m\n\u001b[0;32m--> 131\u001b[0;31m             \u001b[0mself\u001b[0m\u001b[0;34m.\u001b[0m\u001b[0mtrain\u001b[0m\u001b[0;34m(\u001b[0m\u001b[0mcorpus\u001b[0m\u001b[0;34m)\u001b[0m\u001b[0;34m\u001b[0m\u001b[0;34m\u001b[0m\u001b[0m\n\u001b[0m\u001b[1;32m    132\u001b[0m \u001b[0;34m\u001b[0m\u001b[0m\n\u001b[1;32m    133\u001b[0m     \u001b[0;32mdef\u001b[0m \u001b[0mfinferencer\u001b[0m\u001b[0;34m(\u001b[0m\u001b[0mself\u001b[0m\u001b[0;34m)\u001b[0m\u001b[0;34m:\u001b[0m\u001b[0;34m\u001b[0m\u001b[0;34m\u001b[0m\u001b[0m\n",
            "\u001b[0;32m/usr/local/lib/python3.6/dist-packages/gensim/models/wrappers/ldamallet.py\u001b[0m in \u001b[0;36mtrain\u001b[0;34m(self, corpus)\u001b[0m\n\u001b[1;32m    270\u001b[0m \u001b[0;34m\u001b[0m\u001b[0m\n\u001b[1;32m    271\u001b[0m         \"\"\"\n\u001b[0;32m--> 272\u001b[0;31m         \u001b[0mself\u001b[0m\u001b[0;34m.\u001b[0m\u001b[0mconvert_input\u001b[0m\u001b[0;34m(\u001b[0m\u001b[0mcorpus\u001b[0m\u001b[0;34m,\u001b[0m \u001b[0minfer\u001b[0m\u001b[0;34m=\u001b[0m\u001b[0;32mFalse\u001b[0m\u001b[0;34m)\u001b[0m\u001b[0;34m\u001b[0m\u001b[0;34m\u001b[0m\u001b[0m\n\u001b[0m\u001b[1;32m    273\u001b[0m         \u001b[0mcmd\u001b[0m \u001b[0;34m=\u001b[0m \u001b[0mself\u001b[0m\u001b[0;34m.\u001b[0m\u001b[0mmallet_path\u001b[0m \u001b[0;34m+\u001b[0m \u001b[0;34m' train-topics --input %s --num-topics %s  --alpha %s --optimize-interval %s '\u001b[0m\u001b[0;31m\\\u001b[0m\u001b[0;34m\u001b[0m\u001b[0;34m\u001b[0m\u001b[0m\n\u001b[1;32m    274\u001b[0m             \u001b[0;34m'--num-threads %s --output-state %s --output-doc-topics %s --output-topic-keys %s '\u001b[0m\u001b[0;31m\\\u001b[0m\u001b[0;34m\u001b[0m\u001b[0;34m\u001b[0m\u001b[0m\n",
            "\u001b[0;32m/usr/local/lib/python3.6/dist-packages/gensim/models/wrappers/ldamallet.py\u001b[0m in \u001b[0;36mconvert_input\u001b[0;34m(self, corpus, infer, serialize_corpus)\u001b[0m\n\u001b[1;32m    259\u001b[0m             \u001b[0mcmd\u001b[0m \u001b[0;34m=\u001b[0m \u001b[0mcmd\u001b[0m \u001b[0;34m%\u001b[0m \u001b[0;34m(\u001b[0m\u001b[0mself\u001b[0m\u001b[0;34m.\u001b[0m\u001b[0mfcorpustxt\u001b[0m\u001b[0;34m(\u001b[0m\u001b[0;34m)\u001b[0m\u001b[0;34m,\u001b[0m \u001b[0mself\u001b[0m\u001b[0;34m.\u001b[0m\u001b[0mfcorpusmallet\u001b[0m\u001b[0;34m(\u001b[0m\u001b[0;34m)\u001b[0m\u001b[0;34m)\u001b[0m\u001b[0;34m\u001b[0m\u001b[0;34m\u001b[0m\u001b[0m\n\u001b[1;32m    260\u001b[0m         \u001b[0mlogger\u001b[0m\u001b[0;34m.\u001b[0m\u001b[0minfo\u001b[0m\u001b[0;34m(\u001b[0m\u001b[0;34m\"converting temporary corpus to MALLET format with %s\"\u001b[0m\u001b[0;34m,\u001b[0m \u001b[0mcmd\u001b[0m\u001b[0;34m)\u001b[0m\u001b[0;34m\u001b[0m\u001b[0;34m\u001b[0m\u001b[0m\n\u001b[0;32m--> 261\u001b[0;31m         \u001b[0mcheck_output\u001b[0m\u001b[0;34m(\u001b[0m\u001b[0margs\u001b[0m\u001b[0;34m=\u001b[0m\u001b[0mcmd\u001b[0m\u001b[0;34m,\u001b[0m \u001b[0mshell\u001b[0m\u001b[0;34m=\u001b[0m\u001b[0;32mTrue\u001b[0m\u001b[0;34m)\u001b[0m\u001b[0;34m\u001b[0m\u001b[0;34m\u001b[0m\u001b[0m\n\u001b[0m\u001b[1;32m    262\u001b[0m \u001b[0;34m\u001b[0m\u001b[0m\n\u001b[1;32m    263\u001b[0m     \u001b[0;32mdef\u001b[0m \u001b[0mtrain\u001b[0m\u001b[0;34m(\u001b[0m\u001b[0mself\u001b[0m\u001b[0;34m,\u001b[0m \u001b[0mcorpus\u001b[0m\u001b[0;34m)\u001b[0m\u001b[0;34m:\u001b[0m\u001b[0;34m\u001b[0m\u001b[0;34m\u001b[0m\u001b[0m\n",
            "\u001b[0;32m/usr/local/lib/python3.6/dist-packages/gensim/utils.py\u001b[0m in \u001b[0;36mcheck_output\u001b[0;34m(stdout, *popenargs, **kwargs)\u001b[0m\n\u001b[1;32m   1930\u001b[0m             \u001b[0merror\u001b[0m \u001b[0;34m=\u001b[0m \u001b[0msubprocess\u001b[0m\u001b[0;34m.\u001b[0m\u001b[0mCalledProcessError\u001b[0m\u001b[0;34m(\u001b[0m\u001b[0mretcode\u001b[0m\u001b[0;34m,\u001b[0m \u001b[0mcmd\u001b[0m\u001b[0;34m)\u001b[0m\u001b[0;34m\u001b[0m\u001b[0;34m\u001b[0m\u001b[0m\n\u001b[1;32m   1931\u001b[0m             \u001b[0merror\u001b[0m\u001b[0;34m.\u001b[0m\u001b[0moutput\u001b[0m \u001b[0;34m=\u001b[0m \u001b[0moutput\u001b[0m\u001b[0;34m\u001b[0m\u001b[0;34m\u001b[0m\u001b[0m\n\u001b[0;32m-> 1932\u001b[0;31m             \u001b[0;32mraise\u001b[0m \u001b[0merror\u001b[0m\u001b[0;34m\u001b[0m\u001b[0;34m\u001b[0m\u001b[0m\n\u001b[0m\u001b[1;32m   1933\u001b[0m         \u001b[0;32mreturn\u001b[0m \u001b[0moutput\u001b[0m\u001b[0;34m\u001b[0m\u001b[0;34m\u001b[0m\u001b[0m\n\u001b[1;32m   1934\u001b[0m     \u001b[0;32mexcept\u001b[0m \u001b[0mKeyboardInterrupt\u001b[0m\u001b[0;34m:\u001b[0m\u001b[0;34m\u001b[0m\u001b[0;34m\u001b[0m\u001b[0m\n",
            "\u001b[0;31mCalledProcessError\u001b[0m: Command 'drive/My Drive/gssoc/mallet-2.0.8/bin/mallet import-file --preserve-case --keep-sequence --remove-stopwords --token-regex \"\\S+\" --input /tmp/d0699d_corpus.txt --output /tmp/d0699d_corpus.mallet' returned non-zero exit status 127."
          ]
        }
      ]
    },
    {
      "cell_type": "code",
      "metadata": {
        "id": "BI8keUPnt30z"
      },
      "source": [
        "def compute_coherence_values(dictionary, corpus, texts, limit, start=2, step=1):\n",
        "    \"\"\"\n",
        "    Compute c_v coherence for various number of topics\n",
        "\n",
        "    Parameters:\n",
        "    ----------\n",
        "    dictionary : Gensim dictionary\n",
        "    corpus : Gensim corpus\n",
        "    texts : List of input texts\n",
        "    limit : Max num of topics\n",
        "\n",
        "    Returns: \n",
        "    -------\n",
        "    model_list : List of LDA topic models\n",
        "    coherence_values : Coherence values corresponding to the LDA model with respective number of topics\n",
        "    \"\"\"\n",
        "    coherence_values = []\n",
        "    model_list = []\n",
        "    for num_topics in range(start, limit, step):\n",
        "        model = gensim.models.LdaModel(corpus=corpus,\n",
        "                                  id2word=id2word,\n",
        "                                  num_topics=num_topics,\n",
        "                                  random_state=0)\n",
        "        model_list.append(model)\n",
        "        coherencemodel = CoherenceModel(model=model, texts=texts, dictionary=dictionary, coherence='c_v')\n",
        "        coherence_values.append(coherencemodel.get_coherence())\n",
        "\n",
        "    return model_list, coherence_values"
      ],
      "execution_count": null,
      "outputs": []
    },
    {
      "cell_type": "code",
      "metadata": {
        "id": "dJcX41eJvolL"
      },
      "source": [
        "model_list, coherence_values = compute_coherence_values(dictionary=id2word, corpus=corpus, texts=data_lemmatized, start=2, limit=20, step=5)"
      ],
      "execution_count": null,
      "outputs": []
    },
    {
      "cell_type": "code",
      "metadata": {
        "id": "QfAnqSr6f7cP",
        "outputId": "1d578365-88f7-40b2-c7db-f61203716597",
        "colab": {
          "base_uri": "https://localhost:8080/",
          "height": 85
        }
      },
      "source": [
        "for m, cv in zip(x, coherence_values):\n",
        "    print(\"Num Topics =\", m, \" has Coherence Value of\", round(cv, 4))"
      ],
      "execution_count": null,
      "outputs": [
        {
          "output_type": "stream",
          "text": [
            "Num Topics = 2  has Coherence Value of 0.4124\n",
            "Num Topics = 7  has Coherence Value of 0.4368\n",
            "Num Topics = 12  has Coherence Value of 0.4517\n",
            "Num Topics = 17  has Coherence Value of 0.4581\n"
          ],
          "name": "stdout"
        }
      ]
    },
    {
      "cell_type": "code",
      "metadata": {
        "id": "JMnHtmHBHhCv",
        "outputId": "bdb2c683-cfc9-4299-a278-aaeae39c0a22",
        "colab": {
          "base_uri": "https://localhost:8080/",
          "height": 282
        }
      },
      "source": [
        "limit=20; start=2; step=5;\n",
        "x = range(start, limit, step)\n",
        "plt.plot(x, coherence_values)\n",
        "plt.xlabel(\"Num Topics\")\n",
        "plt.ylabel(\"Coherence score\")\n",
        "plt.legend((\"coherence_values\"), loc='best')\n",
        "plt.show()"
      ],
      "execution_count": null,
      "outputs": [
        {
          "output_type": "display_data",
          "data": {
            "image/png": "[encoded data removed]",
            "text/plain": [
              "<Figure size 432x288 with 1 Axes>"
            ]
          },
          "metadata": {
            "tags": [],
            "needs_background": "light"
          }
        }
      ]
    },
    {
      "cell_type": "code",
      "metadata": {
        "id": "5NrVn0s0CwlS"
      },
      "source": [
        "model_list, coherence_values = compute_coherence_values(dictionary=id2word, corpus=corpus, texts=data_lemmatized, start=21, limit=40, step=5)"
      ],
      "execution_count": null,
      "outputs": []
    },
    {
      "cell_type": "code",
      "metadata": {
        "id": "gjwHhXffD2AM",
        "outputId": "13286690-4084-4ec1-b7c4-b4e4cfe6e2eb",
        "colab": {
          "base_uri": "https://localhost:8080/",
          "height": 283
        }
      },
      "source": [
        "limit=40; start=21; step=5;\n",
        "x = range(start, limit, step)\n",
        "plt.plot(x, coherence_values)\n",
        "plt.xlabel(\"Num Topics\")\n",
        "plt.ylabel(\"Coherence score\")\n",
        "plt.legend((\"coherence_values\"), loc='best')\n",
        "plt.show()"
      ],
      "execution_count": null,
      "outputs": [
        {
          "output_type": "display_data",
          "data": {
            "image/png": "[encoded data removed]",
            "text/plain": [
              "<Figure size 432x288 with 1 Axes>"
            ]
          },
          "metadata": {
            "tags": [],
            "needs_background": "light"
          }
        }
      ]
    },
    {
      "cell_type": "code",
      "metadata": {
        "id": "fctKmyzVEGOj",
        "outputId": "996a2947-3cb5-4169-af02-c29286b82694",
        "colab": {
          "base_uri": "https://localhost:8080/",
          "height": 85
        }
      },
      "source": [
        "for m, cv in zip(x, coherence_values):\n",
        "    print(\"Num Topics =\", m, \" has Coherence Value of\", round(cv, 4))"
      ],
      "execution_count": null,
      "outputs": [
        {
          "output_type": "stream",
          "text": [
            "Num Topics = 21  has Coherence Value of 0.4432\n",
            "Num Topics = 26  has Coherence Value of 0.4514\n",
            "Num Topics = 31  has Coherence Value of 0.4541\n",
            "Num Topics = 36  has Coherence Value of 0.4358\n"
          ],
          "name": "stdout"
        }
      ]
    },
    {
      "cell_type": "code",
      "metadata": {
        "id": "j6FOOU7cMHfp"
      },
      "source": [
        "def compute_coherence_values(dictionary, corpus, texts, limit, start=2, step=1):\n",
        "    \"\"\"\n",
        "    Compute c_v coherence for various number of topics\n",
        "\n",
        "    Parameters:\n",
        "    ----------\n",
        "    dictionary : Gensim dictionary\n",
        "    corpus : Gensim corpus\n",
        "    texts : List of input texts\n",
        "    limit : Max num of topics\n",
        "\n",
        "    Returns: \n",
        "    -------\n",
        "    model_list : List of LDA topic models\n",
        "    coherence_values : Coherence values corresponding to the LDA model with respective number of topics\n",
        "    \"\"\"\n",
        "    coherence_values = []\n",
        "    model_list = []\n",
        "    for passes in range(start, limit, step):\n",
        "        model = gensim.models.LdaModel(corpus=corpus,\n",
        "                                  id2word=id2word,\n",
        "                                  num_topics=31,\n",
        "                                  random_state=0,\n",
        "                                  passes=passes)\n",
        "        model_list.append(model)\n",
        "        coherencemodel = CoherenceModel(model=model, texts=texts, dictionary=dictionary, coherence='c_v')\n",
        "        coherence_values.append(coherencemodel.get_coherence())\n",
        "\n",
        "    return model_list, coherence_values"
      ],
      "execution_count": null,
      "outputs": []
    },
    {
      "cell_type": "code",
      "metadata": {
        "id": "ZpWrmmJGMKvz"
      },
      "source": [
        "model_list, coherence_values = compute_coherence_values(dictionary=id2word, corpus=corpus, texts=data_lemmatized, start=0, limit=20, step=5)"
      ],
      "execution_count": null,
      "outputs": []
    },
    {
      "cell_type": "code",
      "metadata": {
        "id": "1mVwgaVjLERc",
        "outputId": "e93ef1bb-3d64-4eed-8c6a-f8fe8af28bab",
        "colab": {
          "base_uri": "https://localhost:8080/",
          "height": 279
        }
      },
      "source": [
        "limit=20; start=0; step=5;\n",
        "x = range(start, limit, step)\n",
        "plt.plot(x, coherence_values)\n",
        "plt.xlabel(\"passes\")\n",
        "plt.ylabel(\"Coherence score\")\n",
        "plt.legend((\"coherence_values\"), loc='best')\n",
        "plt.show()"
      ],
      "execution_count": null,
      "outputs": [
        {
          "output_type": "display_data",
          "data": {
            "image/png": "[encoded data removed]",
            "text/plain": [
              "<Figure size 432x288 with 1 Axes>"
            ]
          },
          "metadata": {
            "tags": [],
            "needs_background": "light"
          }
        }
      ]
    },
    {
      "cell_type": "code",
      "metadata": {
        "id": "POQOUOtGLQ7q",
        "outputId": "82fd0b24-7f12-44a7-84f0-3972d3c4386e",
        "colab": {
          "base_uri": "https://localhost:8080/",
          "height": 85
        }
      },
      "source": [
        "for m, cv in zip(x, coherence_values):\n",
        "    print(\"passes =\", m, \" has Coherence Value of\", round(cv, 4))"
      ],
      "execution_count": null,
      "outputs": [
        {
          "output_type": "stream",
          "text": [
            "passes = 0  has Coherence Value of 0.4581\n",
            "passes = 5  has Coherence Value of 0.4668\n",
            "passes = 10  has Coherence Value of 0.4666\n",
            "passes = 15  has Coherence Value of 0.4669\n"
          ],
          "name": "stdout"
        }
      ]
    }
  ]
}
